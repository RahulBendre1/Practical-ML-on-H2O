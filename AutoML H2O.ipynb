{
 "cells": [
  {
   "cell_type": "code",
   "execution_count": 1,
   "metadata": {},
   "outputs": [],
   "source": [
    "import h2o"
   ]
  },
  {
   "cell_type": "code",
   "execution_count": 2,
   "metadata": {},
   "outputs": [
    {
     "name": "stdout",
     "output_type": "stream",
     "text": [
      "Checking whether there is an H2O instance running at http://localhost:54321. connected.\n"
     ]
    },
    {
     "data": {
      "text/html": [
       "<div style=\"overflow:auto\"><table style=\"width:50%\"><tr><td>H2O cluster uptime:</td>\n",
       "<td>30 mins 28 secs</td></tr>\n",
       "<tr><td>H2O cluster timezone:</td>\n",
       "<td>Asia/Kolkata</td></tr>\n",
       "<tr><td>H2O data parsing timezone:</td>\n",
       "<td>UTC</td></tr>\n",
       "<tr><td>H2O cluster version:</td>\n",
       "<td>3.22.1.1</td></tr>\n",
       "<tr><td>H2O cluster version age:</td>\n",
       "<td>19 days </td></tr>\n",
       "<tr><td>H2O cluster name:</td>\n",
       "<td>H2O_from_python_hp_hk2mw6</td></tr>\n",
       "<tr><td>H2O cluster total nodes:</td>\n",
       "<td>1</td></tr>\n",
       "<tr><td>H2O cluster free memory:</td>\n",
       "<td>1.695 Gb</td></tr>\n",
       "<tr><td>H2O cluster total cores:</td>\n",
       "<td>4</td></tr>\n",
       "<tr><td>H2O cluster allowed cores:</td>\n",
       "<td>4</td></tr>\n",
       "<tr><td>H2O cluster status:</td>\n",
       "<td>locked, healthy</td></tr>\n",
       "<tr><td>H2O connection url:</td>\n",
       "<td>http://localhost:54321</td></tr>\n",
       "<tr><td>H2O connection proxy:</td>\n",
       "<td>None</td></tr>\n",
       "<tr><td>H2O internal security:</td>\n",
       "<td>False</td></tr>\n",
       "<tr><td>H2O API Extensions:</td>\n",
       "<td>XGBoost, Algos, AutoML, Core V3, Core V4</td></tr>\n",
       "<tr><td>Python version:</td>\n",
       "<td>3.6.4 final</td></tr></table></div>"
      ],
      "text/plain": [
       "--------------------------  ----------------------------------------\n",
       "H2O cluster uptime:         30 mins 28 secs\n",
       "H2O cluster timezone:       Asia/Kolkata\n",
       "H2O data parsing timezone:  UTC\n",
       "H2O cluster version:        3.22.1.1\n",
       "H2O cluster version age:    19 days\n",
       "H2O cluster name:           H2O_from_python_hp_hk2mw6\n",
       "H2O cluster total nodes:    1\n",
       "H2O cluster free memory:    1.695 Gb\n",
       "H2O cluster total cores:    4\n",
       "H2O cluster allowed cores:  4\n",
       "H2O cluster status:         locked, healthy\n",
       "H2O connection url:         http://localhost:54321\n",
       "H2O connection proxy:\n",
       "H2O internal security:      False\n",
       "H2O API Extensions:         XGBoost, Algos, AutoML, Core V3, Core V4\n",
       "Python version:             3.6.4 final\n",
       "--------------------------  ----------------------------------------"
      ]
     },
     "metadata": {},
     "output_type": "display_data"
    }
   ],
   "source": [
    "h2o.init()"
   ]
  },
  {
   "cell_type": "code",
   "execution_count": 3,
   "metadata": {},
   "outputs": [
    {
     "name": "stdout",
     "output_type": "stream",
     "text": [
      "Parse progress: |█████████████████████████████████████████████████████████| 100%\n"
     ]
    }
   ],
   "source": [
    "url = \"http://h2o-public-test-data.s3.amazonaws.com/smalldata/iris/iris_wheader.csv\"\n",
    "iris = h2o.import_file(url)"
   ]
  },
  {
   "cell_type": "code",
   "execution_count": 4,
   "metadata": {},
   "outputs": [],
   "source": [
    "# Perform train test split\n",
    "train,test = iris.split_frame([0.8])"
   ]
  },
  {
   "cell_type": "code",
   "execution_count": 5,
   "metadata": {},
   "outputs": [
    {
     "data": {
      "text/html": [
       "<table>\n",
       "<thead>\n",
       "<tr><th>       </th><th>sepal_len         </th><th>sepal_wid         </th><th>petal_len        </th><th>petal_wid         </th><th>class      </th></tr>\n",
       "</thead>\n",
       "<tbody>\n",
       "<tr><td>type   </td><td>real              </td><td>real              </td><td>real             </td><td>real              </td><td>enum       </td></tr>\n",
       "<tr><td>mins   </td><td>4.3               </td><td>2.0               </td><td>1.0              </td><td>0.1               </td><td>           </td></tr>\n",
       "<tr><td>mean   </td><td>5.873170731707316 </td><td>3.067479674796748 </td><td>3.811382113821137</td><td>1.2186991869918702</td><td>           </td></tr>\n",
       "<tr><td>maxs   </td><td>7.9               </td><td>4.4               </td><td>6.7              </td><td>2.5               </td><td>           </td></tr>\n",
       "<tr><td>sigma  </td><td>0.8211420646172547</td><td>0.4301154886770454</td><td>1.738908799163605</td><td>0.7591355732712642</td><td>           </td></tr>\n",
       "<tr><td>zeros  </td><td>0                 </td><td>0                 </td><td>0                </td><td>0                 </td><td>           </td></tr>\n",
       "<tr><td>missing</td><td>0                 </td><td>0                 </td><td>0                </td><td>0                 </td><td>0          </td></tr>\n",
       "<tr><td>0      </td><td>5.1               </td><td>3.5               </td><td>1.4              </td><td>0.2               </td><td>Iris-setosa</td></tr>\n",
       "<tr><td>1      </td><td>4.9               </td><td>3.0               </td><td>1.4              </td><td>0.2               </td><td>Iris-setosa</td></tr>\n",
       "<tr><td>2      </td><td>4.6               </td><td>3.1               </td><td>1.5              </td><td>0.2               </td><td>Iris-setosa</td></tr>\n",
       "<tr><td>3      </td><td>5.0               </td><td>3.6               </td><td>1.4              </td><td>0.2               </td><td>Iris-setosa</td></tr>\n",
       "<tr><td>4      </td><td>5.4               </td><td>3.9               </td><td>1.7              </td><td>0.4               </td><td>Iris-setosa</td></tr>\n",
       "<tr><td>5      </td><td>5.0               </td><td>3.4               </td><td>1.5              </td><td>0.2               </td><td>Iris-setosa</td></tr>\n",
       "<tr><td>6      </td><td>4.4               </td><td>2.9               </td><td>1.4              </td><td>0.2               </td><td>Iris-setosa</td></tr>\n",
       "<tr><td>7      </td><td>4.9               </td><td>3.1               </td><td>1.5              </td><td>0.1               </td><td>Iris-setosa</td></tr>\n",
       "<tr><td>8      </td><td>5.4               </td><td>3.7               </td><td>1.5              </td><td>0.2               </td><td>Iris-setosa</td></tr>\n",
       "<tr><td>9      </td><td>4.8               </td><td>3.4               </td><td>1.6              </td><td>0.2               </td><td>Iris-setosa</td></tr>\n",
       "</tbody>\n",
       "</table>"
      ]
     },
     "metadata": {},
     "output_type": "display_data"
    }
   ],
   "source": [
    "train.summary()"
   ]
  },
  {
   "cell_type": "code",
   "execution_count": 6,
   "metadata": {},
   "outputs": [
    {
     "data": {
      "text/html": [
       "<table>\n",
       "<thead>\n",
       "<tr><th>       </th><th>sepal_len         </th><th>sepal_wid         </th><th>petal_len         </th><th>petal_wid         </th><th>class      </th></tr>\n",
       "</thead>\n",
       "<tbody>\n",
       "<tr><td>type   </td><td>real              </td><td>real              </td><td>real              </td><td>real              </td><td>enum       </td></tr>\n",
       "<tr><td>mins   </td><td>4.5               </td><td>2.2               </td><td>1.2               </td><td>0.1               </td><td>           </td></tr>\n",
       "<tr><td>mean   </td><td>5.707407407407407 </td><td>2.9925925925925925</td><td>3.518518518518518 </td><td>1.1074074074074072</td><td>           </td></tr>\n",
       "<tr><td>maxs   </td><td>7.7               </td><td>4.1               </td><td>6.9               </td><td>2.4               </td><td>           </td></tr>\n",
       "<tr><td>sigma  </td><td>0.8615397334137945</td><td>0.4522813334180447</td><td>1.8918930358926902</td><td>0.7893161236285137</td><td>           </td></tr>\n",
       "<tr><td>zeros  </td><td>0                 </td><td>0                 </td><td>0                 </td><td>0                 </td><td>           </td></tr>\n",
       "<tr><td>missing</td><td>0                 </td><td>0                 </td><td>0                 </td><td>0                 </td><td>0          </td></tr>\n",
       "<tr><td>0      </td><td>4.7               </td><td>3.2               </td><td>1.3               </td><td>0.2               </td><td>Iris-setosa</td></tr>\n",
       "<tr><td>1      </td><td>4.6               </td><td>3.4               </td><td>1.4               </td><td>0.3               </td><td>Iris-setosa</td></tr>\n",
       "<tr><td>2      </td><td>5.1               </td><td>3.3               </td><td>1.7               </td><td>0.5               </td><td>Iris-setosa</td></tr>\n",
       "<tr><td>3      </td><td>5.0               </td><td>3.0               </td><td>1.6               </td><td>0.2               </td><td>Iris-setosa</td></tr>\n",
       "<tr><td>4      </td><td>5.2               </td><td>3.4               </td><td>1.4               </td><td>0.2               </td><td>Iris-setosa</td></tr>\n",
       "<tr><td>5      </td><td>5.2               </td><td>4.1               </td><td>1.5               </td><td>0.1               </td><td>Iris-setosa</td></tr>\n",
       "<tr><td>6      </td><td>5.0               </td><td>3.2               </td><td>1.2               </td><td>0.2               </td><td>Iris-setosa</td></tr>\n",
       "<tr><td>7      </td><td>5.5               </td><td>3.5               </td><td>1.3               </td><td>0.2               </td><td>Iris-setosa</td></tr>\n",
       "<tr><td>8      </td><td>4.5               </td><td>2.3               </td><td>1.3               </td><td>0.3               </td><td>Iris-setosa</td></tr>\n",
       "<tr><td>9      </td><td>5.1               </td><td>3.8               </td><td>1.9               </td><td>0.4               </td><td>Iris-setosa</td></tr>\n",
       "</tbody>\n",
       "</table>"
      ]
     },
     "metadata": {},
     "output_type": "display_data"
    }
   ],
   "source": [
    "test.summary()"
   ]
  },
  {
   "cell_type": "code",
   "execution_count": 7,
   "metadata": {},
   "outputs": [
    {
     "data": {
      "text/plain": [
       "123"
      ]
     },
     "execution_count": 7,
     "metadata": {},
     "output_type": "execute_result"
    }
   ],
   "source": [
    "train.nrows"
   ]
  },
  {
   "cell_type": "code",
   "execution_count": 8,
   "metadata": {},
   "outputs": [
    {
     "data": {
      "text/plain": [
       "27"
      ]
     },
     "execution_count": 8,
     "metadata": {},
     "output_type": "execute_result"
    }
   ],
   "source": [
    "test.nrows"
   ]
  },
  {
   "cell_type": "code",
   "execution_count": 9,
   "metadata": {},
   "outputs": [],
   "source": [
    "from h2o.automl import H2OAutoML"
   ]
  },
  {
   "cell_type": "code",
   "execution_count": 10,
   "metadata": {},
   "outputs": [
    {
     "name": "stdout",
     "output_type": "stream",
     "text": [
      "AutoML progress: |████████████████████████████████████████████████████████| 100%\n"
     ]
    }
   ],
   "source": [
    "mA = H2OAutoML(max_runtime_secs=30)\n",
    "mA.train([\"sepal_len\",\"sepal_wid\",\"petal_len\",\"petal_wid\"],\"class\",train)"
   ]
  },
  {
   "cell_type": "code",
   "execution_count": 11,
   "metadata": {},
   "outputs": [
    {
     "data": {
      "text/plain": [
       "<h2o.automl.autoh2o.H2OAutoML at 0x7ff1cb568b70>"
      ]
     },
     "execution_count": 11,
     "metadata": {},
     "output_type": "execute_result"
    }
   ],
   "source": [
    "mA"
   ]
  },
  {
   "cell_type": "code",
   "execution_count": 12,
   "metadata": {},
   "outputs": [
    {
     "name": "stdout",
     "output_type": "stream",
     "text": [
      "glm prediction progress: |████████████████████████████████████████████████| 100%\n"
     ]
    }
   ],
   "source": [
    "p = mA.leader.predict(test)"
   ]
  },
  {
   "cell_type": "code",
   "execution_count": 13,
   "metadata": {},
   "outputs": [
    {
     "data": {
      "text/html": [
       "<table>\n",
       "<thead>\n",
       "<tr><th>predict    </th><th style=\"text-align: right;\">  Iris-setosa</th><th style=\"text-align: right;\">  Iris-versicolor</th><th style=\"text-align: right;\">  Iris-virginica</th></tr>\n",
       "</thead>\n",
       "<tbody>\n",
       "<tr><td>Iris-setosa</td><td style=\"text-align: right;\">     0.9989  </td><td style=\"text-align: right;\">      0.00109964 </td><td style=\"text-align: right;\">     1.75982e-18</td></tr>\n",
       "<tr><td>Iris-setosa</td><td style=\"text-align: right;\">     0.999747</td><td style=\"text-align: right;\">      0.000252534</td><td style=\"text-align: right;\">     1.2921e-18 </td></tr>\n",
       "<tr><td>Iris-setosa</td><td style=\"text-align: right;\">     0.98925 </td><td style=\"text-align: right;\">      0.0107498  </td><td style=\"text-align: right;\">     1.40764e-15</td></tr>\n",
       "<tr><td>Iris-setosa</td><td style=\"text-align: right;\">     0.977579</td><td style=\"text-align: right;\">      0.0224206  </td><td style=\"text-align: right;\">     2.0823e-16 </td></tr>\n",
       "<tr><td>Iris-setosa</td><td style=\"text-align: right;\">     0.997941</td><td style=\"text-align: right;\">      0.00205857 </td><td style=\"text-align: right;\">     1.25574e-18</td></tr>\n",
       "<tr><td>Iris-setosa</td><td style=\"text-align: right;\">     0.999992</td><td style=\"text-align: right;\">      8.47419e-06</td><td style=\"text-align: right;\">     3.27074e-22</td></tr>\n",
       "<tr><td>Iris-setosa</td><td style=\"text-align: right;\">     0.996666</td><td style=\"text-align: right;\">      0.00333439 </td><td style=\"text-align: right;\">     1.82353e-18</td></tr>\n",
       "<tr><td>Iris-setosa</td><td style=\"text-align: right;\">     0.997054</td><td style=\"text-align: right;\">      0.00294553 </td><td style=\"text-align: right;\">     4.46343e-19</td></tr>\n",
       "<tr><td>Iris-setosa</td><td style=\"text-align: right;\">     0.626708</td><td style=\"text-align: right;\">      0.373292   </td><td style=\"text-align: right;\">     4.3889e-14 </td></tr>\n",
       "<tr><td>Iris-setosa</td><td style=\"text-align: right;\">     0.999777</td><td style=\"text-align: right;\">      0.000223242</td><td style=\"text-align: right;\">     6.05819e-18</td></tr>\n",
       "</tbody>\n",
       "</table>"
      ]
     },
     "metadata": {},
     "output_type": "display_data"
    },
    {
     "data": {
      "text/plain": []
     },
     "execution_count": 13,
     "metadata": {},
     "output_type": "execute_result"
    }
   ],
   "source": [
    "p"
   ]
  },
  {
   "cell_type": "code",
   "execution_count": 14,
   "metadata": {},
   "outputs": [
    {
     "name": "stdout",
     "output_type": "stream",
     "text": [
      "\n",
      "ModelMetricsMultinomialGLM: glm\n",
      "** Reported on test data. **\n",
      "\n",
      "MSE: 0.0074503436860559125\n",
      "RMSE: 0.08631537340506563\n"
     ]
    },
    {
     "data": {
      "text/plain": []
     },
     "execution_count": 14,
     "metadata": {},
     "output_type": "execute_result"
    }
   ],
   "source": [
    "mA.leader.model_performance(test)"
   ]
  },
  {
   "cell_type": "code",
   "execution_count": 15,
   "metadata": {},
   "outputs": [
    {
     "data": {
      "text/html": [
       "<table>\n",
       "<thead>\n",
       "<tr><th>model_id                                           </th><th style=\"text-align: right;\">  mean_per_class_error</th><th style=\"text-align: right;\">  logloss</th><th style=\"text-align: right;\">    rmse</th><th style=\"text-align: right;\">      mse</th></tr>\n",
       "</thead>\n",
       "<tbody>\n",
       "<tr><td>GLM_grid_1_AutoML_20190117_100634_model_1          </td><td style=\"text-align: right;\">             0.0313859</td><td style=\"text-align: right;\">0.0791401</td><td style=\"text-align: right;\">0.158883</td><td style=\"text-align: right;\">0.0252438</td></tr>\n",
       "<tr><td>GBM_1_AutoML_20190117_100634                       </td><td style=\"text-align: right;\">             0.0476461</td><td style=\"text-align: right;\">0.172911 </td><td style=\"text-align: right;\">0.205064</td><td style=\"text-align: right;\">0.0420514</td></tr>\n",
       "<tr><td>XGBoost_2_AutoML_20190117_100634                   </td><td style=\"text-align: right;\">             0.0476461</td><td style=\"text-align: right;\">0.359426 </td><td style=\"text-align: right;\">0.308471</td><td style=\"text-align: right;\">0.0951544</td></tr>\n",
       "<tr><td>StackedEnsemble_BestOfFamily_AutoML_20190117_100634</td><td style=\"text-align: right;\">             0.0476461</td><td style=\"text-align: right;\">0.218202 </td><td style=\"text-align: right;\">0.224125</td><td style=\"text-align: right;\">0.0502321</td></tr>\n",
       "<tr><td>GBM_4_AutoML_20190117_100634                       </td><td style=\"text-align: right;\">             0.0476461</td><td style=\"text-align: right;\">0.149543 </td><td style=\"text-align: right;\">0.196832</td><td style=\"text-align: right;\">0.0387428</td></tr>\n",
       "<tr><td>GBM_3_AutoML_20190117_100634                       </td><td style=\"text-align: right;\">             0.0476461</td><td style=\"text-align: right;\">0.150495 </td><td style=\"text-align: right;\">0.19412 </td><td style=\"text-align: right;\">0.0376826</td></tr>\n",
       "<tr><td>XGBoost_1_AutoML_20190117_100634                   </td><td style=\"text-align: right;\">             0.0476461</td><td style=\"text-align: right;\">0.213432 </td><td style=\"text-align: right;\">0.219972</td><td style=\"text-align: right;\">0.0483878</td></tr>\n",
       "<tr><td>GBM_2_AutoML_20190117_100634                       </td><td style=\"text-align: right;\">             0.0476461</td><td style=\"text-align: right;\">0.143327 </td><td style=\"text-align: right;\">0.190529</td><td style=\"text-align: right;\">0.0363011</td></tr>\n",
       "<tr><td>DRF_1_AutoML_20190117_100634                       </td><td style=\"text-align: right;\">             0.0476461</td><td style=\"text-align: right;\">0.370525 </td><td style=\"text-align: right;\">0.194714</td><td style=\"text-align: right;\">0.0379136</td></tr>\n",
       "<tr><td>StackedEnsemble_AllModels_AutoML_20190117_100634   </td><td style=\"text-align: right;\">             0.0476461</td><td style=\"text-align: right;\">0.212467 </td><td style=\"text-align: right;\">0.221496</td><td style=\"text-align: right;\">0.0490604</td></tr>\n",
       "</tbody>\n",
       "</table>"
      ]
     },
     "metadata": {},
     "output_type": "display_data"
    },
    {
     "data": {
      "text/plain": []
     },
     "execution_count": 15,
     "metadata": {},
     "output_type": "execute_result"
    }
   ],
   "source": [
    "mA.leaderboard"
   ]
  },
  {
   "cell_type": "code",
   "execution_count": null,
   "metadata": {},
   "outputs": [],
   "source": []
  }
 ],
 "metadata": {
  "kernelspec": {
   "display_name": "Python 3",
   "language": "python",
   "name": "python3"
  },
  "language_info": {
   "codemirror_mode": {
    "name": "ipython",
    "version": 3
   },
   "file_extension": ".py",
   "mimetype": "text/x-python",
   "name": "python",
   "nbconvert_exporter": "python",
   "pygments_lexer": "ipython3",
   "version": "3.6.4"
  }
 },
 "nbformat": 4,
 "nbformat_minor": 2
}

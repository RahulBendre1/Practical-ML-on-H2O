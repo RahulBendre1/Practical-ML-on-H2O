{
 "cells": [
  {
   "cell_type": "code",
   "execution_count": 1,
   "metadata": {},
   "outputs": [],
   "source": [
    "# Import h2o\n",
    "import h2o"
   ]
  },
  {
   "cell_type": "code",
   "execution_count": 2,
   "metadata": {},
   "outputs": [
    {
     "name": "stdout",
     "output_type": "stream",
     "text": [
      "Checking whether there is an H2O instance running at http://localhost:54321..... not found.\n",
      "Attempting to start a local H2O server...\n",
      "  Java Version: java version \"1.8.0_181\"; Java(TM) SE Runtime Environment (build 1.8.0_181-b13); Java HotSpot(TM) 64-Bit Server VM (build 25.181-b13, mixed mode)\n",
      "  Starting server from /home/hp/workfolder/python/anaconda3/lib/python3.6/site-packages/h2o/backend/bin/h2o.jar\n",
      "  Ice root: /tmp/tmpc_ya8r6e\n",
      "  JVM stdout: /tmp/tmpc_ya8r6e/h2o_hp_started_from_python.out\n",
      "  JVM stderr: /tmp/tmpc_ya8r6e/h2o_hp_started_from_python.err\n",
      "  Server is running at http://127.0.0.1:54321\n",
      "Connecting to H2O server at http://127.0.0.1:54321... successful.\n"
     ]
    },
    {
     "data": {
      "text/html": [
       "<div style=\"overflow:auto\"><table style=\"width:50%\"><tr><td>H2O cluster uptime:</td>\n",
       "<td>05 secs</td></tr>\n",
       "<tr><td>H2O cluster timezone:</td>\n",
       "<td>Asia/Kolkata</td></tr>\n",
       "<tr><td>H2O data parsing timezone:</td>\n",
       "<td>UTC</td></tr>\n",
       "<tr><td>H2O cluster version:</td>\n",
       "<td>3.22.1.1</td></tr>\n",
       "<tr><td>H2O cluster version age:</td>\n",
       "<td>20 days </td></tr>\n",
       "<tr><td>H2O cluster name:</td>\n",
       "<td>H2O_from_python_hp_j117e8</td></tr>\n",
       "<tr><td>H2O cluster total nodes:</td>\n",
       "<td>1</td></tr>\n",
       "<tr><td>H2O cluster free memory:</td>\n",
       "<td>1.714 Gb</td></tr>\n",
       "<tr><td>H2O cluster total cores:</td>\n",
       "<td>4</td></tr>\n",
       "<tr><td>H2O cluster allowed cores:</td>\n",
       "<td>4</td></tr>\n",
       "<tr><td>H2O cluster status:</td>\n",
       "<td>accepting new members, healthy</td></tr>\n",
       "<tr><td>H2O connection url:</td>\n",
       "<td>http://127.0.0.1:54321</td></tr>\n",
       "<tr><td>H2O connection proxy:</td>\n",
       "<td>None</td></tr>\n",
       "<tr><td>H2O internal security:</td>\n",
       "<td>False</td></tr>\n",
       "<tr><td>H2O API Extensions:</td>\n",
       "<td>XGBoost, Algos, AutoML, Core V3, Core V4</td></tr>\n",
       "<tr><td>Python version:</td>\n",
       "<td>3.6.4 final</td></tr></table></div>"
      ],
      "text/plain": [
       "--------------------------  ----------------------------------------\n",
       "H2O cluster uptime:         05 secs\n",
       "H2O cluster timezone:       Asia/Kolkata\n",
       "H2O data parsing timezone:  UTC\n",
       "H2O cluster version:        3.22.1.1\n",
       "H2O cluster version age:    20 days\n",
       "H2O cluster name:           H2O_from_python_hp_j117e8\n",
       "H2O cluster total nodes:    1\n",
       "H2O cluster free memory:    1.714 Gb\n",
       "H2O cluster total cores:    4\n",
       "H2O cluster allowed cores:  4\n",
       "H2O cluster status:         accepting new members, healthy\n",
       "H2O connection url:         http://127.0.0.1:54321\n",
       "H2O connection proxy:\n",
       "H2O internal security:      False\n",
       "H2O API Extensions:         XGBoost, Algos, AutoML, Core V3, Core V4\n",
       "Python version:             3.6.4 final\n",
       "--------------------------  ----------------------------------------"
      ]
     },
     "metadata": {},
     "output_type": "display_data"
    }
   ],
   "source": [
    "h2o.init()"
   ]
  },
  {
   "cell_type": "code",
   "execution_count": 3,
   "metadata": {},
   "outputs": [],
   "source": [
    "url = \"http://h2o-public-test-data.s3.amazonaws.com/smalldata/iris/iris_wheader.csv\""
   ]
  },
  {
   "cell_type": "code",
   "execution_count": 4,
   "metadata": {},
   "outputs": [
    {
     "name": "stdout",
     "output_type": "stream",
     "text": [
      "Parse progress: |█████████████████████████████████████████████████████████| 100%\n"
     ]
    }
   ],
   "source": [
    "iris = h2o.import_file(url)"
   ]
  },
  {
   "cell_type": "code",
   "execution_count": 5,
   "metadata": {},
   "outputs": [],
   "source": [
    "# Perform train test split\n",
    "train,test = iris.split_frame([0.8])"
   ]
  },
  {
   "cell_type": "code",
   "execution_count": 6,
   "metadata": {},
   "outputs": [
    {
     "data": {
      "text/html": [
       "<table>\n",
       "<thead>\n",
       "<tr><th>       </th><th>sepal_len         </th><th>sepal_wid         </th><th>petal_len         </th><th>petal_wid         </th><th>class      </th></tr>\n",
       "</thead>\n",
       "<tbody>\n",
       "<tr><td>type   </td><td>real              </td><td>real              </td><td>real              </td><td>real              </td><td>enum       </td></tr>\n",
       "<tr><td>mins   </td><td>4.4               </td><td>2.0               </td><td>1.0               </td><td>0.1               </td><td>           </td></tr>\n",
       "<tr><td>mean   </td><td>5.780000000000001 </td><td>3.048695652173912 </td><td>3.6878260869565223</td><td>1.1852173913043476</td><td>           </td></tr>\n",
       "<tr><td>maxs   </td><td>7.7               </td><td>4.4               </td><td>6.7               </td><td>2.5               </td><td>           </td></tr>\n",
       "<tr><td>sigma  </td><td>0.7989247159491226</td><td>0.4313107760156781</td><td>1.7730510835640172</td><td>0.7831832791995094</td><td>           </td></tr>\n",
       "<tr><td>zeros  </td><td>0                 </td><td>0                 </td><td>0                 </td><td>0                 </td><td>           </td></tr>\n",
       "<tr><td>missing</td><td>0                 </td><td>0                 </td><td>0                 </td><td>0                 </td><td>0          </td></tr>\n",
       "<tr><td>0      </td><td>5.1               </td><td>3.5               </td><td>1.4               </td><td>0.2               </td><td>Iris-setosa</td></tr>\n",
       "<tr><td>1      </td><td>4.9               </td><td>3.0               </td><td>1.4               </td><td>0.2               </td><td>Iris-setosa</td></tr>\n",
       "<tr><td>2      </td><td>4.7               </td><td>3.2               </td><td>1.3               </td><td>0.2               </td><td>Iris-setosa</td></tr>\n",
       "<tr><td>3      </td><td>4.6               </td><td>3.1               </td><td>1.5               </td><td>0.2               </td><td>Iris-setosa</td></tr>\n",
       "<tr><td>4      </td><td>5.0               </td><td>3.6               </td><td>1.4               </td><td>0.2               </td><td>Iris-setosa</td></tr>\n",
       "<tr><td>5      </td><td>5.4               </td><td>3.9               </td><td>1.7               </td><td>0.4               </td><td>Iris-setosa</td></tr>\n",
       "<tr><td>6      </td><td>5.0               </td><td>3.4               </td><td>1.5               </td><td>0.2               </td><td>Iris-setosa</td></tr>\n",
       "<tr><td>7      </td><td>4.4               </td><td>2.9               </td><td>1.4               </td><td>0.2               </td><td>Iris-setosa</td></tr>\n",
       "<tr><td>8      </td><td>5.4               </td><td>3.7               </td><td>1.5               </td><td>0.2               </td><td>Iris-setosa</td></tr>\n",
       "<tr><td>9      </td><td>4.8               </td><td>3.4               </td><td>1.6               </td><td>0.2               </td><td>Iris-setosa</td></tr>\n",
       "</tbody>\n",
       "</table>"
      ]
     },
     "metadata": {},
     "output_type": "display_data"
    }
   ],
   "source": [
    "train.summary()"
   ]
  },
  {
   "cell_type": "code",
   "execution_count": 7,
   "metadata": {},
   "outputs": [
    {
     "data": {
      "text/html": [
       "<table>\n",
       "<thead>\n",
       "<tr><th>       </th><th>sepal_len         </th><th>sepal_wid          </th><th>petal_len         </th><th>petal_wid         </th><th>class          </th></tr>\n",
       "</thead>\n",
       "<tbody>\n",
       "<tr><td>type   </td><td>real              </td><td>real               </td><td>real              </td><td>real              </td><td>enum           </td></tr>\n",
       "<tr><td>mins   </td><td>4.3               </td><td>2.2                </td><td>1.1               </td><td>0.1               </td><td>               </td></tr>\n",
       "<tr><td>mean   </td><td>6.051428571428571 </td><td>3.071428571428571  </td><td>3.9914285714285715</td><td>1.2428571428571427</td><td>               </td></tr>\n",
       "<tr><td>maxs   </td><td>7.9               </td><td>4.1                </td><td>6.9               </td><td>2.3               </td><td>               </td></tr>\n",
       "<tr><td>sigma  </td><td>0.8981587140535091</td><td>0.44693164931526586</td><td>1.7405833080036244</td><td>0.7022173763853178</td><td>               </td></tr>\n",
       "<tr><td>zeros  </td><td>0                 </td><td>0                  </td><td>0                 </td><td>0                 </td><td>               </td></tr>\n",
       "<tr><td>missing</td><td>0                 </td><td>0                  </td><td>0                 </td><td>0                 </td><td>0              </td></tr>\n",
       "<tr><td>0      </td><td>4.6               </td><td>3.4                </td><td>1.4               </td><td>0.3               </td><td>Iris-setosa    </td></tr>\n",
       "<tr><td>1      </td><td>4.9               </td><td>3.1                </td><td>1.5               </td><td>0.1               </td><td>Iris-setosa    </td></tr>\n",
       "<tr><td>2      </td><td>4.3               </td><td>3.0                </td><td>1.1               </td><td>0.1               </td><td>Iris-setosa    </td></tr>\n",
       "<tr><td>3      </td><td>5.8               </td><td>4.0                </td><td>1.2               </td><td>0.2               </td><td>Iris-setosa    </td></tr>\n",
       "<tr><td>4      </td><td>5.1               </td><td>3.5                </td><td>1.4               </td><td>0.3               </td><td>Iris-setosa    </td></tr>\n",
       "<tr><td>5      </td><td>5.7               </td><td>3.8                </td><td>1.7               </td><td>0.3               </td><td>Iris-setosa    </td></tr>\n",
       "<tr><td>6      </td><td>5.1               </td><td>3.8                </td><td>1.5               </td><td>0.3               </td><td>Iris-setosa    </td></tr>\n",
       "<tr><td>7      </td><td>5.2               </td><td>3.5                </td><td>1.5               </td><td>0.2               </td><td>Iris-setosa    </td></tr>\n",
       "<tr><td>8      </td><td>5.2               </td><td>4.1                </td><td>1.5               </td><td>0.1               </td><td>Iris-setosa    </td></tr>\n",
       "<tr><td>9      </td><td>5.7               </td><td>2.8                </td><td>4.5               </td><td>1.3               </td><td>Iris-versicolor</td></tr>\n",
       "</tbody>\n",
       "</table>"
      ]
     },
     "metadata": {},
     "output_type": "display_data"
    }
   ],
   "source": [
    "test.summary()"
   ]
  },
  {
   "cell_type": "code",
   "execution_count": 8,
   "metadata": {},
   "outputs": [
    {
     "data": {
      "text/plain": [
       "115"
      ]
     },
     "execution_count": 8,
     "metadata": {},
     "output_type": "execute_result"
    }
   ],
   "source": [
    "train.nrows"
   ]
  },
  {
   "cell_type": "code",
   "execution_count": 9,
   "metadata": {},
   "outputs": [
    {
     "data": {
      "text/plain": [
       "35"
      ]
     },
     "execution_count": 9,
     "metadata": {},
     "output_type": "execute_result"
    }
   ],
   "source": [
    "test.nrows"
   ]
  },
  {
   "cell_type": "code",
   "execution_count": 10,
   "metadata": {},
   "outputs": [],
   "source": [
    "from h2o.estimators.random_forest import H2ORandomForestEstimator"
   ]
  },
  {
   "cell_type": "code",
   "execution_count": 12,
   "metadata": {},
   "outputs": [
    {
     "name": "stdout",
     "output_type": "stream",
     "text": [
      "drf Model Build progress: |███████████████████████████████████████████████| 100%\n"
     ]
    }
   ],
   "source": [
    "mRF = H2ORandomForestEstimator()\n",
    "mRF.train([\"sepal_len\",\"sepal_wid\",\"petal_len\",\"petal_wid\"],\"class\",train)"
   ]
  },
  {
   "cell_type": "code",
   "execution_count": 13,
   "metadata": {},
   "outputs": [
    {
     "name": "stdout",
     "output_type": "stream",
     "text": [
      "Model Details\n",
      "=============\n",
      "H2ORandomForestEstimator :  Distributed Random Forest\n",
      "Model Key:  DRF_model_python_1547725232369_2\n",
      "\n",
      "\n",
      "ModelMetricsMultinomial: drf\n",
      "** Reported on train data. **\n",
      "\n",
      "MSE: 0.02574868978337535\n",
      "RMSE: 0.16046398282286076\n",
      "LogLoss: 0.08127380207924817\n",
      "Mean Per-Class Error: 0.034803921568627445\n",
      "Confusion Matrix: Row labels: Actual class; Column labels: Predicted class\n",
      "\n"
     ]
    },
    {
     "data": {
      "text/html": [
       "<div style=\"overflow:auto\"><table style=\"width:50%\"><tr><td><b>Iris-setosa</b></td>\n",
       "<td><b>Iris-versicolor</b></td>\n",
       "<td><b>Iris-virginica</b></td>\n",
       "<td><b>Error</b></td>\n",
       "<td><b>Rate</b></td></tr>\n",
       "<tr><td>41.0</td>\n",
       "<td>0.0</td>\n",
       "<td>0.0</td>\n",
       "<td>0.0</td>\n",
       "<td>0 / 41</td></tr>\n",
       "<tr><td>0.0</td>\n",
       "<td>33.0</td>\n",
       "<td>1.0</td>\n",
       "<td>0.0294118</td>\n",
       "<td>1 / 34</td></tr>\n",
       "<tr><td>0.0</td>\n",
       "<td>3.0</td>\n",
       "<td>37.0</td>\n",
       "<td>0.075</td>\n",
       "<td>3 / 40</td></tr>\n",
       "<tr><td>41.0</td>\n",
       "<td>36.0</td>\n",
       "<td>38.0</td>\n",
       "<td>0.0347826</td>\n",
       "<td>4 / 115</td></tr></table></div>"
      ],
      "text/plain": [
       "Iris-setosa    Iris-versicolor    Iris-virginica    Error      Rate\n",
       "-------------  -----------------  ----------------  ---------  -------\n",
       "41             0                  0                 0          0 / 41\n",
       "0              33                 1                 0.0294118  1 / 34\n",
       "0              3                  37                0.075      3 / 40\n",
       "41             36                 38                0.0347826  4 / 115"
      ]
     },
     "metadata": {},
     "output_type": "display_data"
    },
    {
     "name": "stdout",
     "output_type": "stream",
     "text": [
      "Top-3 Hit Ratios: \n"
     ]
    },
    {
     "data": {
      "text/html": [
       "<div style=\"overflow:auto\"><table style=\"width:50%\"><tr><td><b>k</b></td>\n",
       "<td><b>hit_ratio</b></td></tr>\n",
       "<tr><td>1</td>\n",
       "<td>0.9652174</td></tr>\n",
       "<tr><td>2</td>\n",
       "<td>1.0</td></tr>\n",
       "<tr><td>3</td>\n",
       "<td>1.0</td></tr></table></div>"
      ],
      "text/plain": [
       "k    hit_ratio\n",
       "---  -----------\n",
       "1    0.965217\n",
       "2    1\n",
       "3    1"
      ]
     },
     "metadata": {},
     "output_type": "display_data"
    },
    {
     "name": "stdout",
     "output_type": "stream",
     "text": [
      "Scoring History: \n"
     ]
    },
    {
     "data": {
      "text/html": [
       "<div style=\"overflow:auto\"><table style=\"width:50%\"><tr><td><b></b></td>\n",
       "<td><b>timestamp</b></td>\n",
       "<td><b>duration</b></td>\n",
       "<td><b>number_of_trees</b></td>\n",
       "<td><b>training_rmse</b></td>\n",
       "<td><b>training_logloss</b></td>\n",
       "<td><b>training_classification_error</b></td></tr>\n",
       "<tr><td></td>\n",
       "<td>2019-01-17 17:11:39</td>\n",
       "<td> 0.006 sec</td>\n",
       "<td>0.0</td>\n",
       "<td>nan</td>\n",
       "<td>nan</td>\n",
       "<td>nan</td></tr>\n",
       "<tr><td></td>\n",
       "<td>2019-01-17 17:11:39</td>\n",
       "<td> 0.040 sec</td>\n",
       "<td>1.0</td>\n",
       "<td>0.3234983</td>\n",
       "<td>3.2451488</td>\n",
       "<td>0.0930233</td></tr>\n",
       "<tr><td></td>\n",
       "<td>2019-01-17 17:11:39</td>\n",
       "<td> 0.043 sec</td>\n",
       "<td>2.0</td>\n",
       "<td>0.3024951</td>\n",
       "<td>2.5923147</td>\n",
       "<td>0.0588235</td></tr>\n",
       "<tr><td></td>\n",
       "<td>2019-01-17 17:11:39</td>\n",
       "<td> 0.046 sec</td>\n",
       "<td>3.0</td>\n",
       "<td>0.2385920</td>\n",
       "<td>0.2084051</td>\n",
       "<td>0.0595238</td></tr>\n",
       "<tr><td></td>\n",
       "<td>2019-01-17 17:11:39</td>\n",
       "<td> 0.050 sec</td>\n",
       "<td>4.0</td>\n",
       "<td>0.2163204</td>\n",
       "<td>0.1738988</td>\n",
       "<td>0.0412371</td></tr>\n",
       "<tr><td>---</td>\n",
       "<td>---</td>\n",
       "<td>---</td>\n",
       "<td>---</td>\n",
       "<td>---</td>\n",
       "<td>---</td>\n",
       "<td>---</td></tr>\n",
       "<tr><td></td>\n",
       "<td>2019-01-17 17:11:40</td>\n",
       "<td> 0.258 sec</td>\n",
       "<td>46.0</td>\n",
       "<td>0.1583540</td>\n",
       "<td>0.0784209</td>\n",
       "<td>0.0347826</td></tr>\n",
       "<tr><td></td>\n",
       "<td>2019-01-17 17:11:40</td>\n",
       "<td> 0.262 sec</td>\n",
       "<td>47.0</td>\n",
       "<td>0.1599531</td>\n",
       "<td>0.0805396</td>\n",
       "<td>0.0347826</td></tr>\n",
       "<tr><td></td>\n",
       "<td>2019-01-17 17:11:40</td>\n",
       "<td> 0.265 sec</td>\n",
       "<td>48.0</td>\n",
       "<td>0.1607952</td>\n",
       "<td>0.0817474</td>\n",
       "<td>0.0347826</td></tr>\n",
       "<tr><td></td>\n",
       "<td>2019-01-17 17:11:40</td>\n",
       "<td> 0.274 sec</td>\n",
       "<td>49.0</td>\n",
       "<td>0.1614731</td>\n",
       "<td>0.0821332</td>\n",
       "<td>0.0347826</td></tr>\n",
       "<tr><td></td>\n",
       "<td>2019-01-17 17:11:40</td>\n",
       "<td> 0.280 sec</td>\n",
       "<td>50.0</td>\n",
       "<td>0.1604640</td>\n",
       "<td>0.0812738</td>\n",
       "<td>0.0347826</td></tr></table></div>"
      ],
      "text/plain": [
       "     timestamp            duration    number_of_trees    training_rmse        training_logloss     training_classification_error\n",
       "---  -------------------  ----------  -----------------  -------------------  -------------------  -------------------------------\n",
       "     2019-01-17 17:11:39  0.006 sec   0.0                nan                  nan                  nan\n",
       "     2019-01-17 17:11:39  0.040 sec   1.0                0.3234983196103153   3.245148835831689    0.09302325581395349\n",
       "     2019-01-17 17:11:39  0.043 sec   2.0                0.3024950709910101   2.5923147193089635   0.058823529411764705\n",
       "     2019-01-17 17:11:39  0.046 sec   3.0                0.2385920165247877   0.20840512733713173  0.05952380952380952\n",
       "     2019-01-17 17:11:39  0.050 sec   4.0                0.21632038598315578  0.1738987898994032   0.041237113402061855\n",
       "---  ---                  ---         ---                ---                  ---                  ---\n",
       "     2019-01-17 17:11:40  0.258 sec   46.0               0.15835396547250113  0.07842087783367066  0.034782608695652174\n",
       "     2019-01-17 17:11:40  0.262 sec   47.0               0.1599531121200721   0.0805395945603534   0.034782608695652174\n",
       "     2019-01-17 17:11:40  0.265 sec   48.0               0.1607951569367489   0.08174735596718745  0.034782608695652174\n",
       "     2019-01-17 17:11:40  0.274 sec   49.0               0.16147313989154624  0.08213315338983104  0.034782608695652174\n",
       "     2019-01-17 17:11:40  0.280 sec   50.0               0.16046398282286076  0.08127380207924817  0.034782608695652174"
      ]
     },
     "metadata": {},
     "output_type": "display_data"
    },
    {
     "name": "stdout",
     "output_type": "stream",
     "text": [
      "\n",
      "See the whole table with table.as_data_frame()\n",
      "Variable Importances: \n"
     ]
    },
    {
     "data": {
      "text/html": [
       "<div style=\"overflow:auto\"><table style=\"width:50%\"><tr><td><b>variable</b></td>\n",
       "<td><b>relative_importance</b></td>\n",
       "<td><b>scaled_importance</b></td>\n",
       "<td><b>percentage</b></td></tr>\n",
       "<tr><td>petal_wid</td>\n",
       "<td>1855.9420166</td>\n",
       "<td>1.0</td>\n",
       "<td>0.5555278</td></tr>\n",
       "<tr><td>petal_len</td>\n",
       "<td>1133.4101562</td>\n",
       "<td>0.6106927</td>\n",
       "<td>0.3392568</td></tr>\n",
       "<tr><td>sepal_len</td>\n",
       "<td>291.4459534</td>\n",
       "<td>0.1570340</td>\n",
       "<td>0.0872367</td></tr>\n",
       "<tr><td>sepal_wid</td>\n",
       "<td>60.0642548</td>\n",
       "<td>0.0323632</td>\n",
       "<td>0.0179787</td></tr></table></div>"
      ],
      "text/plain": [
       "variable    relative_importance    scaled_importance    percentage\n",
       "----------  ---------------------  -------------------  ------------\n",
       "petal_wid   1855.94                1                    0.555528\n",
       "petal_len   1133.41                0.610693             0.339257\n",
       "sepal_len   291.446                0.157034             0.0872367\n",
       "sepal_wid   60.0643                0.0323632            0.0179787"
      ]
     },
     "metadata": {},
     "output_type": "display_data"
    },
    {
     "data": {
      "text/plain": []
     },
     "execution_count": 13,
     "metadata": {},
     "output_type": "execute_result"
    }
   ],
   "source": [
    "mRF"
   ]
  },
  {
   "cell_type": "code",
   "execution_count": 14,
   "metadata": {},
   "outputs": [
    {
     "name": "stdout",
     "output_type": "stream",
     "text": [
      "\n",
      "ModelMetricsMultinomial: drf\n",
      "** Reported on test data. **\n",
      "\n",
      "MSE: 0.036234018033569564\n",
      "RMSE: 0.1903523523195066\n",
      "LogLoss: 0.10340372282605634\n",
      "Mean Per-Class Error: 0.041666666666666664\n",
      "Confusion Matrix: Row labels: Actual class; Column labels: Predicted class\n",
      "\n"
     ]
    },
    {
     "data": {
      "text/html": [
       "<div style=\"overflow:auto\"><table style=\"width:50%\"><tr><td><b>Iris-setosa</b></td>\n",
       "<td><b>Iris-versicolor</b></td>\n",
       "<td><b>Iris-virginica</b></td>\n",
       "<td><b>Error</b></td>\n",
       "<td><b>Rate</b></td></tr>\n",
       "<tr><td>9.0</td>\n",
       "<td>0.0</td>\n",
       "<td>0.0</td>\n",
       "<td>0.0</td>\n",
       "<td>0 / 9</td></tr>\n",
       "<tr><td>0.0</td>\n",
       "<td>14.0</td>\n",
       "<td>2.0</td>\n",
       "<td>0.125</td>\n",
       "<td>2 / 16</td></tr>\n",
       "<tr><td>0.0</td>\n",
       "<td>0.0</td>\n",
       "<td>10.0</td>\n",
       "<td>0.0</td>\n",
       "<td>0 / 10</td></tr>\n",
       "<tr><td>9.0</td>\n",
       "<td>14.0</td>\n",
       "<td>12.0</td>\n",
       "<td>0.0571429</td>\n",
       "<td>2 / 35</td></tr></table></div>"
      ],
      "text/plain": [
       "Iris-setosa    Iris-versicolor    Iris-virginica    Error      Rate\n",
       "-------------  -----------------  ----------------  ---------  ------\n",
       "9              0                  0                 0          0 / 9\n",
       "0              14                 2                 0.125      2 / 16\n",
       "0              0                  10                0          0 / 10\n",
       "9              14                 12                0.0571429  2 / 35"
      ]
     },
     "metadata": {},
     "output_type": "display_data"
    },
    {
     "name": "stdout",
     "output_type": "stream",
     "text": [
      "Top-3 Hit Ratios: \n"
     ]
    },
    {
     "data": {
      "text/html": [
       "<div style=\"overflow:auto\"><table style=\"width:50%\"><tr><td><b>k</b></td>\n",
       "<td><b>hit_ratio</b></td></tr>\n",
       "<tr><td>1</td>\n",
       "<td>0.9428572</td></tr>\n",
       "<tr><td>2</td>\n",
       "<td>1.0</td></tr>\n",
       "<tr><td>3</td>\n",
       "<td>1.0</td></tr></table></div>"
      ],
      "text/plain": [
       "k    hit_ratio\n",
       "---  -----------\n",
       "1    0.942857\n",
       "2    1\n",
       "3    1"
      ]
     },
     "metadata": {},
     "output_type": "display_data"
    },
    {
     "data": {
      "text/plain": []
     },
     "execution_count": 14,
     "metadata": {},
     "output_type": "execute_result"
    }
   ],
   "source": [
    "mRF.model_performance(test)"
   ]
  },
  {
   "cell_type": "code",
   "execution_count": 15,
   "metadata": {},
   "outputs": [
    {
     "name": "stdout",
     "output_type": "stream",
     "text": [
      "drf prediction progress: |████████████████████████████████████████████████| 100%\n"
     ]
    }
   ],
   "source": [
    "p = mDL.predict(test)"
   ]
  },
  {
   "cell_type": "code",
   "execution_count": 16,
   "metadata": {},
   "outputs": [
    {
     "data": {
      "text/html": [
       "<table>\n",
       "<thead>\n",
       "<tr><th>predict        </th><th style=\"text-align: right;\">  Iris-setosa</th><th style=\"text-align: right;\">  Iris-versicolor</th><th style=\"text-align: right;\">  Iris-virginica</th></tr>\n",
       "</thead>\n",
       "<tbody>\n",
       "<tr><td>Iris-setosa    </td><td style=\"text-align: right;\">     0.997373</td><td style=\"text-align: right;\">         0       </td><td style=\"text-align: right;\">      0.00262718</td></tr>\n",
       "<tr><td>Iris-setosa    </td><td style=\"text-align: right;\">     0.997373</td><td style=\"text-align: right;\">         0       </td><td style=\"text-align: right;\">      0.00262718</td></tr>\n",
       "<tr><td>Iris-setosa    </td><td style=\"text-align: right;\">     0.997373</td><td style=\"text-align: right;\">         0       </td><td style=\"text-align: right;\">      0.00262718</td></tr>\n",
       "<tr><td>Iris-setosa    </td><td style=\"text-align: right;\">     0.998059</td><td style=\"text-align: right;\">         0       </td><td style=\"text-align: right;\">      0.00194067</td></tr>\n",
       "<tr><td>Iris-setosa    </td><td style=\"text-align: right;\">     0.997373</td><td style=\"text-align: right;\">         0       </td><td style=\"text-align: right;\">      0.00262718</td></tr>\n",
       "<tr><td>Iris-setosa    </td><td style=\"text-align: right;\">     0.997264</td><td style=\"text-align: right;\">         0       </td><td style=\"text-align: right;\">      0.00273635</td></tr>\n",
       "<tr><td>Iris-setosa    </td><td style=\"text-align: right;\">     0.997373</td><td style=\"text-align: right;\">         0       </td><td style=\"text-align: right;\">      0.00262718</td></tr>\n",
       "<tr><td>Iris-setosa    </td><td style=\"text-align: right;\">     0.997373</td><td style=\"text-align: right;\">         0       </td><td style=\"text-align: right;\">      0.00262718</td></tr>\n",
       "<tr><td>Iris-setosa    </td><td style=\"text-align: right;\">     0.997373</td><td style=\"text-align: right;\">         0       </td><td style=\"text-align: right;\">      0.00262718</td></tr>\n",
       "<tr><td>Iris-versicolor</td><td style=\"text-align: right;\">     0       </td><td style=\"text-align: right;\">         0.977425</td><td style=\"text-align: right;\">      0.0225746 </td></tr>\n",
       "</tbody>\n",
       "</table>"
      ]
     },
     "metadata": {},
     "output_type": "display_data"
    },
    {
     "data": {
      "text/plain": []
     },
     "execution_count": 16,
     "metadata": {},
     "output_type": "execute_result"
    }
   ],
   "source": [
    "p"
   ]
  },
  {
   "cell_type": "code",
   "execution_count": null,
   "metadata": {},
   "outputs": [],
   "source": []
  }
 ],
 "metadata": {
  "kernelspec": {
   "display_name": "Python 3",
   "language": "python",
   "name": "python3"
  },
  "language_info": {
   "codemirror_mode": {
    "name": "ipython",
    "version": 3
   },
   "file_extension": ".py",
   "mimetype": "text/x-python",
   "name": "python",
   "nbconvert_exporter": "python",
   "pygments_lexer": "ipython3",
   "version": "3.6.4"
  }
 },
 "nbformat": 4,
 "nbformat_minor": 2
}

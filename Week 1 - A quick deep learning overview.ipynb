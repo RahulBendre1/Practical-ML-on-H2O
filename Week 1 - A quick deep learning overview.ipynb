{
 "cells": [
  {
   "cell_type": "code",
   "execution_count": 1,
   "metadata": {},
   "outputs": [],
   "source": [
    "# Import h2o\n",
    "import h2o"
   ]
  },
  {
   "cell_type": "code",
   "execution_count": 2,
   "metadata": {},
   "outputs": [
    {
     "name": "stdout",
     "output_type": "stream",
     "text": [
      "Checking whether there is an H2O instance running at http://localhost:54321..... not found.\n",
      "Attempting to start a local H2O server...\n",
      "  Java Version: java version \"1.8.0_181\"; Java(TM) SE Runtime Environment (build 1.8.0_181-b13); Java HotSpot(TM) 64-Bit Server VM (build 25.181-b13, mixed mode)\n",
      "  Starting server from /home/hp/workfolder/python/anaconda3/lib/python3.6/site-packages/h2o/backend/bin/h2o.jar\n",
      "  Ice root: /tmp/tmp4z_xn99a\n",
      "  JVM stdout: /tmp/tmp4z_xn99a/h2o_hp_started_from_python.out\n",
      "  JVM stderr: /tmp/tmp4z_xn99a/h2o_hp_started_from_python.err\n",
      "  Server is running at http://127.0.0.1:54321\n",
      "Connecting to H2O server at http://127.0.0.1:54321... successful.\n"
     ]
    },
    {
     "data": {
      "text/html": [
       "<div style=\"overflow:auto\"><table style=\"width:50%\"><tr><td>H2O cluster uptime:</td>\n",
       "<td>05 secs</td></tr>\n",
       "<tr><td>H2O cluster timezone:</td>\n",
       "<td>Asia/Kolkata</td></tr>\n",
       "<tr><td>H2O data parsing timezone:</td>\n",
       "<td>UTC</td></tr>\n",
       "<tr><td>H2O cluster version:</td>\n",
       "<td>3.22.1.1</td></tr>\n",
       "<tr><td>H2O cluster version age:</td>\n",
       "<td>19 days </td></tr>\n",
       "<tr><td>H2O cluster name:</td>\n",
       "<td>H2O_from_python_hp_hk2mw6</td></tr>\n",
       "<tr><td>H2O cluster total nodes:</td>\n",
       "<td>1</td></tr>\n",
       "<tr><td>H2O cluster free memory:</td>\n",
       "<td>1.714 Gb</td></tr>\n",
       "<tr><td>H2O cluster total cores:</td>\n",
       "<td>4</td></tr>\n",
       "<tr><td>H2O cluster allowed cores:</td>\n",
       "<td>4</td></tr>\n",
       "<tr><td>H2O cluster status:</td>\n",
       "<td>accepting new members, healthy</td></tr>\n",
       "<tr><td>H2O connection url:</td>\n",
       "<td>http://127.0.0.1:54321</td></tr>\n",
       "<tr><td>H2O connection proxy:</td>\n",
       "<td>None</td></tr>\n",
       "<tr><td>H2O internal security:</td>\n",
       "<td>False</td></tr>\n",
       "<tr><td>H2O API Extensions:</td>\n",
       "<td>XGBoost, Algos, AutoML, Core V3, Core V4</td></tr>\n",
       "<tr><td>Python version:</td>\n",
       "<td>3.6.4 final</td></tr></table></div>"
      ],
      "text/plain": [
       "--------------------------  ----------------------------------------\n",
       "H2O cluster uptime:         05 secs\n",
       "H2O cluster timezone:       Asia/Kolkata\n",
       "H2O data parsing timezone:  UTC\n",
       "H2O cluster version:        3.22.1.1\n",
       "H2O cluster version age:    19 days\n",
       "H2O cluster name:           H2O_from_python_hp_hk2mw6\n",
       "H2O cluster total nodes:    1\n",
       "H2O cluster free memory:    1.714 Gb\n",
       "H2O cluster total cores:    4\n",
       "H2O cluster allowed cores:  4\n",
       "H2O cluster status:         accepting new members, healthy\n",
       "H2O connection url:         http://127.0.0.1:54321\n",
       "H2O connection proxy:\n",
       "H2O internal security:      False\n",
       "H2O API Extensions:         XGBoost, Algos, AutoML, Core V3, Core V4\n",
       "Python version:             3.6.4 final\n",
       "--------------------------  ----------------------------------------"
      ]
     },
     "metadata": {},
     "output_type": "display_data"
    }
   ],
   "source": [
    "h2o.init()"
   ]
  },
  {
   "cell_type": "code",
   "execution_count": 3,
   "metadata": {},
   "outputs": [],
   "source": [
    "url = \"http://h2o-public-test-data.s3.amazonaws.com/smalldata/iris/iris_wheader.csv\""
   ]
  },
  {
   "cell_type": "code",
   "execution_count": 4,
   "metadata": {},
   "outputs": [
    {
     "name": "stdout",
     "output_type": "stream",
     "text": [
      "Parse progress: |█████████████████████████████████████████████████████████| 100%\n"
     ]
    }
   ],
   "source": [
    "iris = h2o.import_file(url)"
   ]
  },
  {
   "cell_type": "code",
   "execution_count": 6,
   "metadata": {},
   "outputs": [],
   "source": [
    "# Perform train test split\n",
    "train,test = iris.split_frame([0.8])"
   ]
  },
  {
   "cell_type": "code",
   "execution_count": 7,
   "metadata": {},
   "outputs": [
    {
     "data": {
      "text/html": [
       "<table>\n",
       "<thead>\n",
       "<tr><th>       </th><th>sepal_len         </th><th>sepal_wid         </th><th>petal_len         </th><th>petal_wid         </th><th>class      </th></tr>\n",
       "</thead>\n",
       "<tbody>\n",
       "<tr><td>type   </td><td>real              </td><td>real              </td><td>real              </td><td>real              </td><td>enum       </td></tr>\n",
       "<tr><td>mins   </td><td>4.4               </td><td>2.0               </td><td>1.0               </td><td>0.1               </td><td>           </td></tr>\n",
       "<tr><td>mean   </td><td>5.810256410256414 </td><td>3.048717948717949 </td><td>3.6752136752136746</td><td>1.1606837606837606</td><td>           </td></tr>\n",
       "<tr><td>maxs   </td><td>7.9               </td><td>4.4               </td><td>6.6               </td><td>2.5               </td><td>           </td></tr>\n",
       "<tr><td>sigma  </td><td>0.7925716127096704</td><td>0.4519336586604704</td><td>1.7208110549121678</td><td>0.7408007392932728</td><td>           </td></tr>\n",
       "<tr><td>zeros  </td><td>0                 </td><td>0                 </td><td>0                 </td><td>0                 </td><td>           </td></tr>\n",
       "<tr><td>missing</td><td>0                 </td><td>0                 </td><td>0                 </td><td>0                 </td><td>0          </td></tr>\n",
       "<tr><td>0      </td><td>4.9               </td><td>3.0               </td><td>1.4               </td><td>0.2               </td><td>Iris-setosa</td></tr>\n",
       "<tr><td>1      </td><td>4.6               </td><td>3.1               </td><td>1.5               </td><td>0.2               </td><td>Iris-setosa</td></tr>\n",
       "<tr><td>2      </td><td>5.0               </td><td>3.6               </td><td>1.4               </td><td>0.2               </td><td>Iris-setosa</td></tr>\n",
       "<tr><td>3      </td><td>5.4               </td><td>3.9               </td><td>1.7               </td><td>0.4               </td><td>Iris-setosa</td></tr>\n",
       "<tr><td>4      </td><td>4.6               </td><td>3.4               </td><td>1.4               </td><td>0.3               </td><td>Iris-setosa</td></tr>\n",
       "<tr><td>5      </td><td>5.0               </td><td>3.4               </td><td>1.5               </td><td>0.2               </td><td>Iris-setosa</td></tr>\n",
       "<tr><td>6      </td><td>4.4               </td><td>2.9               </td><td>1.4               </td><td>0.2               </td><td>Iris-setosa</td></tr>\n",
       "<tr><td>7      </td><td>4.9               </td><td>3.1               </td><td>1.5               </td><td>0.1               </td><td>Iris-setosa</td></tr>\n",
       "<tr><td>8      </td><td>5.4               </td><td>3.7               </td><td>1.5               </td><td>0.2               </td><td>Iris-setosa</td></tr>\n",
       "<tr><td>9      </td><td>4.8               </td><td>3.0               </td><td>1.4               </td><td>0.1               </td><td>Iris-setosa</td></tr>\n",
       "</tbody>\n",
       "</table>"
      ]
     },
     "metadata": {},
     "output_type": "display_data"
    }
   ],
   "source": [
    "train.summary()"
   ]
  },
  {
   "cell_type": "code",
   "execution_count": 8,
   "metadata": {},
   "outputs": [
    {
     "data": {
      "text/html": [
       "<table>\n",
       "<thead>\n",
       "<tr><th>       </th><th>sepal_len         </th><th>sepal_wid          </th><th>petal_len        </th><th>petal_wid         </th><th>class      </th></tr>\n",
       "</thead>\n",
       "<tbody>\n",
       "<tr><td>type   </td><td>real              </td><td>real               </td><td>real             </td><td>real              </td><td>enum       </td></tr>\n",
       "<tr><td>mins   </td><td>4.3               </td><td>2.3                </td><td>1.1              </td><td>0.1               </td><td>           </td></tr>\n",
       "<tr><td>mean   </td><td>5.960606060606061 </td><td>3.072727272727273  </td><td>4.054545454545455</td><td>1.3333333333333337</td><td>           </td></tr>\n",
       "<tr><td>maxs   </td><td>7.7               </td><td>4.1                </td><td>6.9              </td><td>2.5               </td><td>           </td></tr>\n",
       "<tr><td>sigma  </td><td>0.9473447742042604</td><td>0.36680438185149133</td><td>1.909366863172664</td><td>0.8357880512825404</td><td>           </td></tr>\n",
       "<tr><td>zeros  </td><td>0                 </td><td>0                  </td><td>0                </td><td>0                 </td><td>           </td></tr>\n",
       "<tr><td>missing</td><td>0                 </td><td>0                  </td><td>0                </td><td>0                 </td><td>0          </td></tr>\n",
       "<tr><td>0      </td><td>5.1               </td><td>3.5                </td><td>1.4              </td><td>0.2               </td><td>Iris-setosa</td></tr>\n",
       "<tr><td>1      </td><td>4.7               </td><td>3.2                </td><td>1.3              </td><td>0.2               </td><td>Iris-setosa</td></tr>\n",
       "<tr><td>2      </td><td>4.8               </td><td>3.4                </td><td>1.6              </td><td>0.2               </td><td>Iris-setosa</td></tr>\n",
       "<tr><td>3      </td><td>4.3               </td><td>3.0                </td><td>1.1              </td><td>0.1               </td><td>Iris-setosa</td></tr>\n",
       "<tr><td>4      </td><td>4.8               </td><td>3.4                </td><td>1.9              </td><td>0.2               </td><td>Iris-setosa</td></tr>\n",
       "<tr><td>5      </td><td>5.0               </td><td>3.0                </td><td>1.6              </td><td>0.2               </td><td>Iris-setosa</td></tr>\n",
       "<tr><td>6      </td><td>5.2               </td><td>4.1                </td><td>1.5              </td><td>0.1               </td><td>Iris-setosa</td></tr>\n",
       "<tr><td>7      </td><td>5.0               </td><td>3.2                </td><td>1.2              </td><td>0.2               </td><td>Iris-setosa</td></tr>\n",
       "<tr><td>8      </td><td>5.0               </td><td>3.5                </td><td>1.6              </td><td>0.6               </td><td>Iris-setosa</td></tr>\n",
       "<tr><td>9      </td><td>4.6               </td><td>3.2                </td><td>1.4              </td><td>0.2               </td><td>Iris-setosa</td></tr>\n",
       "</tbody>\n",
       "</table>"
      ]
     },
     "metadata": {},
     "output_type": "display_data"
    }
   ],
   "source": [
    "test.summary()"
   ]
  },
  {
   "cell_type": "code",
   "execution_count": 9,
   "metadata": {},
   "outputs": [
    {
     "data": {
      "text/plain": [
       "117"
      ]
     },
     "execution_count": 9,
     "metadata": {},
     "output_type": "execute_result"
    }
   ],
   "source": [
    "train.nrows"
   ]
  },
  {
   "cell_type": "code",
   "execution_count": 10,
   "metadata": {},
   "outputs": [
    {
     "data": {
      "text/plain": [
       "33"
      ]
     },
     "execution_count": 10,
     "metadata": {},
     "output_type": "execute_result"
    }
   ],
   "source": [
    "test.nrows"
   ]
  },
  {
   "cell_type": "code",
   "execution_count": 11,
   "metadata": {},
   "outputs": [],
   "source": [
    "from h2o.estimators.deeplearning import H2ODeepLearningEstimator"
   ]
  },
  {
   "cell_type": "code",
   "execution_count": 12,
   "metadata": {},
   "outputs": [
    {
     "name": "stdout",
     "output_type": "stream",
     "text": [
      "deeplearning Model Build progress: |██████████████████████████████████████| 100%\n"
     ]
    }
   ],
   "source": [
    "mDL = H2ODeepLearningEstimator()\n",
    "mDL.train([\"sepal_len\",\"sepal_wid\",\"petal_len\",\"petal_wid\"],\"class\",train)"
   ]
  },
  {
   "cell_type": "code",
   "execution_count": 13,
   "metadata": {},
   "outputs": [
    {
     "name": "stdout",
     "output_type": "stream",
     "text": [
      "Model Details\n",
      "=============\n",
      "H2ODeepLearningEstimator :  Deep Learning\n",
      "Model Key:  DeepLearning_model_python_1547697825188_1\n",
      "\n",
      "\n",
      "ModelMetricsMultinomial: deeplearning\n",
      "** Reported on train data. **\n",
      "\n",
      "MSE: 0.02752981396380192\n",
      "RMSE: 0.1659211076499971\n",
      "LogLoss: 0.08363028413792042\n",
      "Mean Per-Class Error: 0.05555555555555555\n",
      "Confusion Matrix: Row labels: Actual class; Column labels: Predicted class\n",
      "\n"
     ]
    },
    {
     "data": {
      "text/html": [
       "<div style=\"overflow:auto\"><table style=\"width:50%\"><tr><td><b>Iris-setosa</b></td>\n",
       "<td><b>Iris-versicolor</b></td>\n",
       "<td><b>Iris-virginica</b></td>\n",
       "<td><b>Error</b></td>\n",
       "<td><b>Rate</b></td></tr>\n",
       "<tr><td>40.0</td>\n",
       "<td>0.0</td>\n",
       "<td>0.0</td>\n",
       "<td>0.0</td>\n",
       "<td>0 / 40</td></tr>\n",
       "<tr><td>0.0</td>\n",
       "<td>41.0</td>\n",
       "<td>0.0</td>\n",
       "<td>0.0</td>\n",
       "<td>0 / 41</td></tr>\n",
       "<tr><td>0.0</td>\n",
       "<td>6.0</td>\n",
       "<td>30.0</td>\n",
       "<td>0.1666667</td>\n",
       "<td>6 / 36</td></tr>\n",
       "<tr><td>40.0</td>\n",
       "<td>47.0</td>\n",
       "<td>30.0</td>\n",
       "<td>0.0512821</td>\n",
       "<td>6 / 117</td></tr></table></div>"
      ],
      "text/plain": [
       "Iris-setosa    Iris-versicolor    Iris-virginica    Error      Rate\n",
       "-------------  -----------------  ----------------  ---------  -------\n",
       "40             0                  0                 0          0 / 40\n",
       "0              41                 0                 0          0 / 41\n",
       "0              6                  30                0.166667   6 / 36\n",
       "40             47                 30                0.0512821  6 / 117"
      ]
     },
     "metadata": {},
     "output_type": "display_data"
    },
    {
     "name": "stdout",
     "output_type": "stream",
     "text": [
      "Top-3 Hit Ratios: \n"
     ]
    },
    {
     "data": {
      "text/html": [
       "<div style=\"overflow:auto\"><table style=\"width:50%\"><tr><td><b>k</b></td>\n",
       "<td><b>hit_ratio</b></td></tr>\n",
       "<tr><td>1</td>\n",
       "<td>0.9487180</td></tr>\n",
       "<tr><td>2</td>\n",
       "<td>1.0</td></tr>\n",
       "<tr><td>3</td>\n",
       "<td>1.0</td></tr></table></div>"
      ],
      "text/plain": [
       "k    hit_ratio\n",
       "---  -----------\n",
       "1    0.948718\n",
       "2    1\n",
       "3    1"
      ]
     },
     "metadata": {},
     "output_type": "display_data"
    },
    {
     "name": "stdout",
     "output_type": "stream",
     "text": [
      "Scoring History: \n"
     ]
    },
    {
     "data": {
      "text/html": [
       "<div style=\"overflow:auto\"><table style=\"width:50%\"><tr><td><b></b></td>\n",
       "<td><b>timestamp</b></td>\n",
       "<td><b>duration</b></td>\n",
       "<td><b>training_speed</b></td>\n",
       "<td><b>epochs</b></td>\n",
       "<td><b>iterations</b></td>\n",
       "<td><b>samples</b></td>\n",
       "<td><b>training_rmse</b></td>\n",
       "<td><b>training_logloss</b></td>\n",
       "<td><b>training_r2</b></td>\n",
       "<td><b>training_classification_error</b></td></tr>\n",
       "<tr><td></td>\n",
       "<td>2019-01-17 09:43:19</td>\n",
       "<td> 0.000 sec</td>\n",
       "<td>None</td>\n",
       "<td>0.0</td>\n",
       "<td>0</td>\n",
       "<td>0.0</td>\n",
       "<td>nan</td>\n",
       "<td>nan</td>\n",
       "<td>nan</td>\n",
       "<td>nan</td></tr>\n",
       "<tr><td></td>\n",
       "<td>2019-01-17 09:43:19</td>\n",
       "<td> 0.523 sec</td>\n",
       "<td>479 obs/sec</td>\n",
       "<td>1.0</td>\n",
       "<td>1</td>\n",
       "<td>117.0</td>\n",
       "<td>0.5824554</td>\n",
       "<td>2.6334805</td>\n",
       "<td>0.4767854</td>\n",
       "<td>0.3504274</td></tr>\n",
       "<tr><td></td>\n",
       "<td>2019-01-17 09:43:20</td>\n",
       "<td> 0.958 sec</td>\n",
       "<td>1759 obs/sec</td>\n",
       "<td>10.0</td>\n",
       "<td>10</td>\n",
       "<td>1170.0</td>\n",
       "<td>0.1659211</td>\n",
       "<td>0.0836303</td>\n",
       "<td>0.9575422</td>\n",
       "<td>0.0512821</td></tr></table></div>"
      ],
      "text/plain": [
       "    timestamp            duration    training_speed    epochs    iterations    samples    training_rmse    training_logloss    training_r2    training_classification_error\n",
       "--  -------------------  ----------  ----------------  --------  ------------  ---------  ---------------  ------------------  -------------  -------------------------------\n",
       "    2019-01-17 09:43:19  0.000 sec                     0         0             0          nan              nan                 nan            nan\n",
       "    2019-01-17 09:43:19  0.523 sec   479 obs/sec       1         1             117        0.582455         2.63348             0.476785       0.350427\n",
       "    2019-01-17 09:43:20  0.958 sec   1759 obs/sec      10        10            1170       0.165921         0.0836303           0.957542       0.0512821"
      ]
     },
     "metadata": {},
     "output_type": "display_data"
    },
    {
     "name": "stdout",
     "output_type": "stream",
     "text": [
      "Variable Importances: \n"
     ]
    },
    {
     "data": {
      "text/html": [
       "<div style=\"overflow:auto\"><table style=\"width:50%\"><tr><td><b>variable</b></td>\n",
       "<td><b>relative_importance</b></td>\n",
       "<td><b>scaled_importance</b></td>\n",
       "<td><b>percentage</b></td></tr>\n",
       "<tr><td>petal_len</td>\n",
       "<td>1.0</td>\n",
       "<td>1.0</td>\n",
       "<td>0.2575867</td></tr>\n",
       "<tr><td>petal_wid</td>\n",
       "<td>0.9858889</td>\n",
       "<td>0.9858889</td>\n",
       "<td>0.2539519</td></tr>\n",
       "<tr><td>sepal_len</td>\n",
       "<td>0.9741566</td>\n",
       "<td>0.9741566</td>\n",
       "<td>0.2509298</td></tr>\n",
       "<tr><td>sepal_wid</td>\n",
       "<td>0.9221421</td>\n",
       "<td>0.9221421</td>\n",
       "<td>0.2375316</td></tr></table></div>"
      ],
      "text/plain": [
       "variable    relative_importance    scaled_importance    percentage\n",
       "----------  ---------------------  -------------------  ------------\n",
       "petal_len   1                      1                    0.257587\n",
       "petal_wid   0.985889               0.985889             0.253952\n",
       "sepal_len   0.974157               0.974157             0.25093\n",
       "sepal_wid   0.922142               0.922142             0.237532"
      ]
     },
     "metadata": {},
     "output_type": "display_data"
    },
    {
     "data": {
      "text/plain": []
     },
     "execution_count": 13,
     "metadata": {},
     "output_type": "execute_result"
    }
   ],
   "source": [
    "mDL"
   ]
  },
  {
   "cell_type": "code",
   "execution_count": 14,
   "metadata": {},
   "outputs": [
    {
     "name": "stdout",
     "output_type": "stream",
     "text": [
      "deeplearning prediction progress: |███████████████████████████████████████| 100%\n"
     ]
    }
   ],
   "source": [
    "p = mDL.predict(test)"
   ]
  },
  {
   "cell_type": "code",
   "execution_count": 15,
   "metadata": {},
   "outputs": [
    {
     "data": {
      "text/html": [
       "<table>\n",
       "<thead>\n",
       "<tr><th>predict    </th><th style=\"text-align: right;\">  Iris-setosa</th><th style=\"text-align: right;\">  Iris-versicolor</th><th style=\"text-align: right;\">  Iris-virginica</th></tr>\n",
       "</thead>\n",
       "<tbody>\n",
       "<tr><td>Iris-setosa</td><td style=\"text-align: right;\">     0.999995</td><td style=\"text-align: right;\">      4.80014e-06</td><td style=\"text-align: right;\">     1.01272e-22</td></tr>\n",
       "<tr><td>Iris-setosa</td><td style=\"text-align: right;\">     0.999998</td><td style=\"text-align: right;\">      2.40807e-06</td><td style=\"text-align: right;\">     1.49137e-22</td></tr>\n",
       "<tr><td>Iris-setosa</td><td style=\"text-align: right;\">     0.999997</td><td style=\"text-align: right;\">      2.93837e-06</td><td style=\"text-align: right;\">     2.85014e-22</td></tr>\n",
       "<tr><td>Iris-setosa</td><td style=\"text-align: right;\">     0.999999</td><td style=\"text-align: right;\">      7.8838e-07 </td><td style=\"text-align: right;\">     3.08202e-23</td></tr>\n",
       "<tr><td>Iris-setosa</td><td style=\"text-align: right;\">     0.999994</td><td style=\"text-align: right;\">      5.57178e-06</td><td style=\"text-align: right;\">     1.65171e-21</td></tr>\n",
       "<tr><td>Iris-setosa</td><td style=\"text-align: right;\">     0.99995 </td><td style=\"text-align: right;\">      4.97262e-05</td><td style=\"text-align: right;\">     9.44312e-21</td></tr>\n",
       "<tr><td>Iris-setosa</td><td style=\"text-align: right;\">     0.999999</td><td style=\"text-align: right;\">      7.56077e-07</td><td style=\"text-align: right;\">     3.65349e-24</td></tr>\n",
       "<tr><td>Iris-setosa</td><td style=\"text-align: right;\">     0.999992</td><td style=\"text-align: right;\">      7.52962e-06</td><td style=\"text-align: right;\">     1.79578e-22</td></tr>\n",
       "<tr><td>Iris-setosa</td><td style=\"text-align: right;\">     0.999989</td><td style=\"text-align: right;\">      1.10455e-05</td><td style=\"text-align: right;\">     5.70345e-20</td></tr>\n",
       "<tr><td>Iris-setosa</td><td style=\"text-align: right;\">     0.999998</td><td style=\"text-align: right;\">      1.92435e-06</td><td style=\"text-align: right;\">     2.11598e-22</td></tr>\n",
       "</tbody>\n",
       "</table>"
      ]
     },
     "metadata": {},
     "output_type": "display_data"
    },
    {
     "data": {
      "text/plain": []
     },
     "execution_count": 15,
     "metadata": {},
     "output_type": "execute_result"
    }
   ],
   "source": [
    "p"
   ]
  },
  {
   "cell_type": "code",
   "execution_count": 16,
   "metadata": {},
   "outputs": [
    {
     "name": "stdout",
     "output_type": "stream",
     "text": [
      "\n",
      "ModelMetricsMultinomial: deeplearning\n",
      "** Reported on test data. **\n",
      "\n",
      "MSE: 0.00921941227725081\n",
      "RMSE: 0.09601777063258035\n",
      "LogLoss: 0.03988533699304563\n",
      "Mean Per-Class Error: 0.0\n",
      "Confusion Matrix: Row labels: Actual class; Column labels: Predicted class\n",
      "\n"
     ]
    },
    {
     "data": {
      "text/html": [
       "<div style=\"overflow:auto\"><table style=\"width:50%\"><tr><td><b>Iris-setosa</b></td>\n",
       "<td><b>Iris-versicolor</b></td>\n",
       "<td><b>Iris-virginica</b></td>\n",
       "<td><b>Error</b></td>\n",
       "<td><b>Rate</b></td></tr>\n",
       "<tr><td>10.0</td>\n",
       "<td>0.0</td>\n",
       "<td>0.0</td>\n",
       "<td>0.0</td>\n",
       "<td>0 / 10</td></tr>\n",
       "<tr><td>0.0</td>\n",
       "<td>9.0</td>\n",
       "<td>0.0</td>\n",
       "<td>0.0</td>\n",
       "<td>0 / 9</td></tr>\n",
       "<tr><td>0.0</td>\n",
       "<td>0.0</td>\n",
       "<td>14.0</td>\n",
       "<td>0.0</td>\n",
       "<td>0 / 14</td></tr>\n",
       "<tr><td>10.0</td>\n",
       "<td>9.0</td>\n",
       "<td>14.0</td>\n",
       "<td>0.0</td>\n",
       "<td>0 / 33</td></tr></table></div>"
      ],
      "text/plain": [
       "Iris-setosa    Iris-versicolor    Iris-virginica    Error    Rate\n",
       "-------------  -----------------  ----------------  -------  ------\n",
       "10             0                  0                 0        0 / 10\n",
       "0              9                  0                 0        0 / 9\n",
       "0              0                  14                0        0 / 14\n",
       "10             9                  14                0        0 / 33"
      ]
     },
     "metadata": {},
     "output_type": "display_data"
    },
    {
     "name": "stdout",
     "output_type": "stream",
     "text": [
      "Top-3 Hit Ratios: \n"
     ]
    },
    {
     "data": {
      "text/html": [
       "<div style=\"overflow:auto\"><table style=\"width:50%\"><tr><td><b>k</b></td>\n",
       "<td><b>hit_ratio</b></td></tr>\n",
       "<tr><td>1</td>\n",
       "<td>1.0</td></tr>\n",
       "<tr><td>2</td>\n",
       "<td>1.0</td></tr>\n",
       "<tr><td>3</td>\n",
       "<td>1.0</td></tr></table></div>"
      ],
      "text/plain": [
       "k    hit_ratio\n",
       "---  -----------\n",
       "1    1\n",
       "2    1\n",
       "3    1"
      ]
     },
     "metadata": {},
     "output_type": "display_data"
    },
    {
     "data": {
      "text/plain": []
     },
     "execution_count": 16,
     "metadata": {},
     "output_type": "execute_result"
    }
   ],
   "source": [
    "mDL.model_performance(test)"
   ]
  },
  {
   "cell_type": "code",
   "execution_count": null,
   "metadata": {},
   "outputs": [],
   "source": []
  }
 ],
 "metadata": {
  "kernelspec": {
   "display_name": "Python 3",
   "language": "python",
   "name": "python3"
  },
  "language_info": {
   "codemirror_mode": {
    "name": "ipython",
    "version": 3
   },
   "file_extension": ".py",
   "mimetype": "text/x-python",
   "name": "python",
   "nbconvert_exporter": "python",
   "pygments_lexer": "ipython3",
   "version": "3.6.4"
  }
 },
 "nbformat": 4,
 "nbformat_minor": 2
}

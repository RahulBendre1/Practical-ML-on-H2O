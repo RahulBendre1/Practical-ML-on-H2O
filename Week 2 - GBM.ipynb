{
 "cells": [
  {
   "cell_type": "code",
   "execution_count": 1,
   "metadata": {},
   "outputs": [],
   "source": [
    "# Import h2o\n",
    "import h2o"
   ]
  },
  {
   "cell_type": "code",
   "execution_count": 2,
   "metadata": {},
   "outputs": [
    {
     "name": "stdout",
     "output_type": "stream",
     "text": [
      "Checking whether there is an H2O instance running at http://localhost:54321. connected.\n"
     ]
    },
    {
     "data": {
      "text/html": [
       "<div style=\"overflow:auto\"><table style=\"width:50%\"><tr><td>H2O cluster uptime:</td>\n",
       "<td>36 mins 38 secs</td></tr>\n",
       "<tr><td>H2O cluster timezone:</td>\n",
       "<td>Asia/Kolkata</td></tr>\n",
       "<tr><td>H2O data parsing timezone:</td>\n",
       "<td>UTC</td></tr>\n",
       "<tr><td>H2O cluster version:</td>\n",
       "<td>3.22.1.1</td></tr>\n",
       "<tr><td>H2O cluster version age:</td>\n",
       "<td>20 days </td></tr>\n",
       "<tr><td>H2O cluster name:</td>\n",
       "<td>H2O_from_python_hp_j117e8</td></tr>\n",
       "<tr><td>H2O cluster total nodes:</td>\n",
       "<td>1</td></tr>\n",
       "<tr><td>H2O cluster free memory:</td>\n",
       "<td>1.693 Gb</td></tr>\n",
       "<tr><td>H2O cluster total cores:</td>\n",
       "<td>4</td></tr>\n",
       "<tr><td>H2O cluster allowed cores:</td>\n",
       "<td>4</td></tr>\n",
       "<tr><td>H2O cluster status:</td>\n",
       "<td>locked, healthy</td></tr>\n",
       "<tr><td>H2O connection url:</td>\n",
       "<td>http://localhost:54321</td></tr>\n",
       "<tr><td>H2O connection proxy:</td>\n",
       "<td>None</td></tr>\n",
       "<tr><td>H2O internal security:</td>\n",
       "<td>False</td></tr>\n",
       "<tr><td>H2O API Extensions:</td>\n",
       "<td>XGBoost, Algos, AutoML, Core V3, Core V4</td></tr>\n",
       "<tr><td>Python version:</td>\n",
       "<td>3.6.4 final</td></tr></table></div>"
      ],
      "text/plain": [
       "--------------------------  ----------------------------------------\n",
       "H2O cluster uptime:         36 mins 38 secs\n",
       "H2O cluster timezone:       Asia/Kolkata\n",
       "H2O data parsing timezone:  UTC\n",
       "H2O cluster version:        3.22.1.1\n",
       "H2O cluster version age:    20 days\n",
       "H2O cluster name:           H2O_from_python_hp_j117e8\n",
       "H2O cluster total nodes:    1\n",
       "H2O cluster free memory:    1.693 Gb\n",
       "H2O cluster total cores:    4\n",
       "H2O cluster allowed cores:  4\n",
       "H2O cluster status:         locked, healthy\n",
       "H2O connection url:         http://localhost:54321\n",
       "H2O connection proxy:\n",
       "H2O internal security:      False\n",
       "H2O API Extensions:         XGBoost, Algos, AutoML, Core V3, Core V4\n",
       "Python version:             3.6.4 final\n",
       "--------------------------  ----------------------------------------"
      ]
     },
     "metadata": {},
     "output_type": "display_data"
    }
   ],
   "source": [
    "h2o.init()"
   ]
  },
  {
   "cell_type": "code",
   "execution_count": 3,
   "metadata": {},
   "outputs": [],
   "source": [
    "url = \"http://h2o-public-test-data.s3.amazonaws.com/smalldata/iris/iris_wheader.csv\""
   ]
  },
  {
   "cell_type": "code",
   "execution_count": 4,
   "metadata": {},
   "outputs": [
    {
     "name": "stdout",
     "output_type": "stream",
     "text": [
      "Parse progress: |█████████████████████████████████████████████████████████| 100%\n"
     ]
    }
   ],
   "source": [
    "iris = h2o.import_file(url)"
   ]
  },
  {
   "cell_type": "code",
   "execution_count": 5,
   "metadata": {},
   "outputs": [],
   "source": [
    "# Perform train test split\n",
    "train,test = iris.split_frame([0.8])"
   ]
  },
  {
   "cell_type": "code",
   "execution_count": 6,
   "metadata": {},
   "outputs": [
    {
     "data": {
      "text/html": [
       "<table>\n",
       "<thead>\n",
       "<tr><th>       </th><th>sepal_len        </th><th>sepal_wid          </th><th>petal_len         </th><th>petal_wid         </th><th>class      </th></tr>\n",
       "</thead>\n",
       "<tbody>\n",
       "<tr><td>type   </td><td>real             </td><td>real               </td><td>real              </td><td>real              </td><td>enum       </td></tr>\n",
       "<tr><td>mins   </td><td>4.3              </td><td>2.0                </td><td>1.0               </td><td>0.1               </td><td>           </td></tr>\n",
       "<tr><td>mean   </td><td>5.841803278688524</td><td>3.068852459016394  </td><td>3.709016393442624 </td><td>1.1729508196721312</td><td>           </td></tr>\n",
       "<tr><td>maxs   </td><td>7.9              </td><td>4.4                </td><td>6.9               </td><td>2.5               </td><td>           </td></tr>\n",
       "<tr><td>sigma  </td><td>0.870436402747972</td><td>0.44333111093123545</td><td>1.8444468407870591</td><td>0.7807642881141297</td><td>           </td></tr>\n",
       "<tr><td>zeros  </td><td>0                </td><td>0                  </td><td>0                 </td><td>0                 </td><td>           </td></tr>\n",
       "<tr><td>missing</td><td>0                </td><td>0                  </td><td>0                 </td><td>0                 </td><td>0          </td></tr>\n",
       "<tr><td>0      </td><td>5.1              </td><td>3.5                </td><td>1.4               </td><td>0.2               </td><td>Iris-setosa</td></tr>\n",
       "<tr><td>1      </td><td>4.9              </td><td>3.0                </td><td>1.4               </td><td>0.2               </td><td>Iris-setosa</td></tr>\n",
       "<tr><td>2      </td><td>4.7              </td><td>3.2                </td><td>1.3               </td><td>0.2               </td><td>Iris-setosa</td></tr>\n",
       "<tr><td>3      </td><td>4.6              </td><td>3.1                </td><td>1.5               </td><td>0.2               </td><td>Iris-setosa</td></tr>\n",
       "<tr><td>4      </td><td>5.0              </td><td>3.6                </td><td>1.4               </td><td>0.2               </td><td>Iris-setosa</td></tr>\n",
       "<tr><td>5      </td><td>5.4              </td><td>3.9                </td><td>1.7               </td><td>0.4               </td><td>Iris-setosa</td></tr>\n",
       "<tr><td>6      </td><td>4.6              </td><td>3.4                </td><td>1.4               </td><td>0.3               </td><td>Iris-setosa</td></tr>\n",
       "<tr><td>7      </td><td>5.0              </td><td>3.4                </td><td>1.5               </td><td>0.2               </td><td>Iris-setosa</td></tr>\n",
       "<tr><td>8      </td><td>4.4              </td><td>2.9                </td><td>1.4               </td><td>0.2               </td><td>Iris-setosa</td></tr>\n",
       "<tr><td>9      </td><td>5.4              </td><td>3.7                </td><td>1.5               </td><td>0.2               </td><td>Iris-setosa</td></tr>\n",
       "</tbody>\n",
       "</table>"
      ]
     },
     "metadata": {},
     "output_type": "display_data"
    }
   ],
   "source": [
    "train.summary()"
   ]
  },
  {
   "cell_type": "code",
   "execution_count": 7,
   "metadata": {},
   "outputs": [
    {
     "data": {
      "text/html": [
       "<table>\n",
       "<thead>\n",
       "<tr><th>       </th><th>sepal_len         </th><th>sepal_wid          </th><th>petal_len         </th><th>petal_wid         </th><th>class          </th></tr>\n",
       "</thead>\n",
       "<tbody>\n",
       "<tr><td>type   </td><td>real              </td><td>real               </td><td>real              </td><td>real              </td><td>enum           </td></tr>\n",
       "<tr><td>mins   </td><td>4.8               </td><td>2.2                </td><td>1.5               </td><td>0.1               </td><td>               </td></tr>\n",
       "<tr><td>mean   </td><td>5.8500000000000005</td><td>2.9892857142857143 </td><td>3.975             </td><td>1.310714285714286 </td><td>               </td></tr>\n",
       "<tr><td>maxs   </td><td>6.9               </td><td>3.8                </td><td>5.7               </td><td>2.5               </td><td>               </td></tr>\n",
       "<tr><td>sigma  </td><td>0.6233125367891446</td><td>0.38905325324746226</td><td>1.3691373331543615</td><td>0.6827717398056606</td><td>               </td></tr>\n",
       "<tr><td>zeros  </td><td>0                 </td><td>0                  </td><td>0                 </td><td>0                 </td><td>               </td></tr>\n",
       "<tr><td>missing</td><td>0                 </td><td>0                  </td><td>0                 </td><td>0                 </td><td>0              </td></tr>\n",
       "<tr><td>0      </td><td>4.9               </td><td>3.1                </td><td>1.5               </td><td>0.1               </td><td>Iris-setosa    </td></tr>\n",
       "<tr><td>1      </td><td>4.8               </td><td>3.4                </td><td>1.6               </td><td>0.2               </td><td>Iris-setosa    </td></tr>\n",
       "<tr><td>2      </td><td>5.7               </td><td>3.8                </td><td>1.7               </td><td>0.3               </td><td>Iris-setosa    </td></tr>\n",
       "<tr><td>3      </td><td>5.1               </td><td>3.7                </td><td>1.5               </td><td>0.4               </td><td>Iris-setosa    </td></tr>\n",
       "<tr><td>4      </td><td>4.8               </td><td>3.4                </td><td>1.9               </td><td>0.2               </td><td>Iris-setosa    </td></tr>\n",
       "<tr><td>5      </td><td>5.2               </td><td>3.5                </td><td>1.5               </td><td>0.2               </td><td>Iris-setosa    </td></tr>\n",
       "<tr><td>6      </td><td>6.4               </td><td>3.2                </td><td>4.5               </td><td>1.5               </td><td>Iris-versicolor</td></tr>\n",
       "<tr><td>7      </td><td>5.5               </td><td>2.3                </td><td>4.0               </td><td>1.3               </td><td>Iris-versicolor</td></tr>\n",
       "<tr><td>8      </td><td>4.9               </td><td>2.4                </td><td>3.3               </td><td>1.0               </td><td>Iris-versicolor</td></tr>\n",
       "<tr><td>9      </td><td>5.2               </td><td>2.7                </td><td>3.9               </td><td>1.4               </td><td>Iris-versicolor</td></tr>\n",
       "</tbody>\n",
       "</table>"
      ]
     },
     "metadata": {},
     "output_type": "display_data"
    }
   ],
   "source": [
    "test.summary()"
   ]
  },
  {
   "cell_type": "code",
   "execution_count": 8,
   "metadata": {},
   "outputs": [
    {
     "data": {
      "text/plain": [
       "122"
      ]
     },
     "execution_count": 8,
     "metadata": {},
     "output_type": "execute_result"
    }
   ],
   "source": [
    "train.nrows"
   ]
  },
  {
   "cell_type": "code",
   "execution_count": 9,
   "metadata": {},
   "outputs": [
    {
     "data": {
      "text/plain": [
       "28"
      ]
     },
     "execution_count": 9,
     "metadata": {},
     "output_type": "execute_result"
    }
   ],
   "source": [
    "test.nrows"
   ]
  },
  {
   "cell_type": "code",
   "execution_count": 11,
   "metadata": {},
   "outputs": [],
   "source": [
    "from h2o.estimators.gbm import H2OGradientBoostingEstimator"
   ]
  },
  {
   "cell_type": "code",
   "execution_count": 12,
   "metadata": {},
   "outputs": [
    {
     "name": "stdout",
     "output_type": "stream",
     "text": [
      "gbm Model Build progress: |███████████████████████████████████████████████| 100%\n"
     ]
    }
   ],
   "source": [
    "mGBM = H2OGradientBoostingEstimator()\n",
    "mGBM.train([\"sepal_len\",\"sepal_wid\",\"petal_len\",\"petal_wid\"],\"class\",train)"
   ]
  },
  {
   "cell_type": "code",
   "execution_count": 13,
   "metadata": {},
   "outputs": [
    {
     "name": "stdout",
     "output_type": "stream",
     "text": [
      "Model Details\n",
      "=============\n",
      "H2OGradientBoostingEstimator :  Gradient Boosting Machine\n",
      "Model Key:  GBM_model_python_1547725232369_3\n",
      "\n",
      "\n",
      "ModelMetricsMultinomial: gbm\n",
      "** Reported on train data. **\n",
      "\n",
      "MSE: 0.001233229165958185\n",
      "RMSE: 0.03511736274207084\n",
      "LogLoss: 0.013687087546698102\n",
      "Mean Per-Class Error: 0.0\n",
      "Confusion Matrix: Row labels: Actual class; Column labels: Predicted class\n",
      "\n"
     ]
    },
    {
     "data": {
      "text/html": [
       "<div style=\"overflow:auto\"><table style=\"width:50%\"><tr><td><b>Iris-setosa</b></td>\n",
       "<td><b>Iris-versicolor</b></td>\n",
       "<td><b>Iris-virginica</b></td>\n",
       "<td><b>Error</b></td>\n",
       "<td><b>Rate</b></td></tr>\n",
       "<tr><td>44.0</td>\n",
       "<td>0.0</td>\n",
       "<td>0.0</td>\n",
       "<td>0.0</td>\n",
       "<td>0 / 44</td></tr>\n",
       "<tr><td>0.0</td>\n",
       "<td>37.0</td>\n",
       "<td>0.0</td>\n",
       "<td>0.0</td>\n",
       "<td>0 / 37</td></tr>\n",
       "<tr><td>0.0</td>\n",
       "<td>0.0</td>\n",
       "<td>41.0</td>\n",
       "<td>0.0</td>\n",
       "<td>0 / 41</td></tr>\n",
       "<tr><td>44.0</td>\n",
       "<td>37.0</td>\n",
       "<td>41.0</td>\n",
       "<td>0.0</td>\n",
       "<td>0 / 122</td></tr></table></div>"
      ],
      "text/plain": [
       "Iris-setosa    Iris-versicolor    Iris-virginica    Error    Rate\n",
       "-------------  -----------------  ----------------  -------  -------\n",
       "44             0                  0                 0        0 / 44\n",
       "0              37                 0                 0        0 / 37\n",
       "0              0                  41                0        0 / 41\n",
       "44             37                 41                0        0 / 122"
      ]
     },
     "metadata": {},
     "output_type": "display_data"
    },
    {
     "name": "stdout",
     "output_type": "stream",
     "text": [
      "Top-3 Hit Ratios: \n"
     ]
    },
    {
     "data": {
      "text/html": [
       "<div style=\"overflow:auto\"><table style=\"width:50%\"><tr><td><b>k</b></td>\n",
       "<td><b>hit_ratio</b></td></tr>\n",
       "<tr><td>1</td>\n",
       "<td>1.0</td></tr>\n",
       "<tr><td>2</td>\n",
       "<td>1.0</td></tr>\n",
       "<tr><td>3</td>\n",
       "<td>1.0</td></tr></table></div>"
      ],
      "text/plain": [
       "k    hit_ratio\n",
       "---  -----------\n",
       "1    1\n",
       "2    1\n",
       "3    1"
      ]
     },
     "metadata": {},
     "output_type": "display_data"
    },
    {
     "name": "stdout",
     "output_type": "stream",
     "text": [
      "Scoring History: \n"
     ]
    },
    {
     "data": {
      "text/html": [
       "<div style=\"overflow:auto\"><table style=\"width:50%\"><tr><td><b></b></td>\n",
       "<td><b>timestamp</b></td>\n",
       "<td><b>duration</b></td>\n",
       "<td><b>number_of_trees</b></td>\n",
       "<td><b>training_rmse</b></td>\n",
       "<td><b>training_logloss</b></td>\n",
       "<td><b>training_classification_error</b></td></tr>\n",
       "<tr><td></td>\n",
       "<td>2019-01-17 17:48:13</td>\n",
       "<td> 0.004 sec</td>\n",
       "<td>0.0</td>\n",
       "<td>0.6666667</td>\n",
       "<td>1.0986123</td>\n",
       "<td>0.6393443</td></tr>\n",
       "<tr><td></td>\n",
       "<td>2019-01-17 17:48:13</td>\n",
       "<td> 0.069 sec</td>\n",
       "<td>1.0</td>\n",
       "<td>0.6043364</td>\n",
       "<td>0.9276659</td>\n",
       "<td>0.0409836</td></tr>\n",
       "<tr><td></td>\n",
       "<td>2019-01-17 17:48:13</td>\n",
       "<td> 0.076 sec</td>\n",
       "<td>2.0</td>\n",
       "<td>0.5470341</td>\n",
       "<td>0.7929019</td>\n",
       "<td>0.0491803</td></tr>\n",
       "<tr><td></td>\n",
       "<td>2019-01-17 17:48:13</td>\n",
       "<td> 0.084 sec</td>\n",
       "<td>3.0</td>\n",
       "<td>0.4955385</td>\n",
       "<td>0.6853914</td>\n",
       "<td>0.0491803</td></tr>\n",
       "<tr><td></td>\n",
       "<td>2019-01-17 17:48:13</td>\n",
       "<td> 0.101 sec</td>\n",
       "<td>4.0</td>\n",
       "<td>0.4487949</td>\n",
       "<td>0.5957801</td>\n",
       "<td>0.0491803</td></tr>\n",
       "<tr><td>---</td>\n",
       "<td>---</td>\n",
       "<td>---</td>\n",
       "<td>---</td>\n",
       "<td>---</td>\n",
       "<td>---</td>\n",
       "<td>---</td></tr>\n",
       "<tr><td></td>\n",
       "<td>2019-01-17 17:48:13</td>\n",
       "<td> 0.391 sec</td>\n",
       "<td>46.0</td>\n",
       "<td>0.0418820</td>\n",
       "<td>0.0172154</td>\n",
       "<td>0.0</td></tr>\n",
       "<tr><td></td>\n",
       "<td>2019-01-17 17:48:13</td>\n",
       "<td> 0.396 sec</td>\n",
       "<td>47.0</td>\n",
       "<td>0.0403809</td>\n",
       "<td>0.0162496</td>\n",
       "<td>0.0</td></tr>\n",
       "<tr><td></td>\n",
       "<td>2019-01-17 17:48:13</td>\n",
       "<td> 0.401 sec</td>\n",
       "<td>48.0</td>\n",
       "<td>0.0380181</td>\n",
       "<td>0.0152148</td>\n",
       "<td>0.0</td></tr>\n",
       "<tr><td></td>\n",
       "<td>2019-01-17 17:48:13</td>\n",
       "<td> 0.406 sec</td>\n",
       "<td>49.0</td>\n",
       "<td>0.0372686</td>\n",
       "<td>0.0145817</td>\n",
       "<td>0.0</td></tr>\n",
       "<tr><td></td>\n",
       "<td>2019-01-17 17:48:13</td>\n",
       "<td> 0.411 sec</td>\n",
       "<td>50.0</td>\n",
       "<td>0.0351174</td>\n",
       "<td>0.0136871</td>\n",
       "<td>0.0</td></tr></table></div>"
      ],
      "text/plain": [
       "     timestamp            duration    number_of_trees    training_rmse        training_logloss      training_classification_error\n",
       "---  -------------------  ----------  -----------------  -------------------  --------------------  -------------------------------\n",
       "     2019-01-17 17:48:13  0.004 sec   0.0                0.6666666666666659   1.0986122886681082    0.639344262295082\n",
       "     2019-01-17 17:48:13  0.069 sec   1.0                0.6043364364260687   0.9276658700120106    0.040983606557377046\n",
       "     2019-01-17 17:48:13  0.076 sec   2.0                0.547034120757846    0.7929019147911336    0.04918032786885246\n",
       "     2019-01-17 17:48:13  0.084 sec   3.0                0.49553847864823763  0.6853913819160427    0.04918032786885246\n",
       "     2019-01-17 17:48:13  0.101 sec   4.0                0.44879491407298105  0.5957801438371858    0.04918032786885246\n",
       "---  ---                  ---         ---                ---                  ---                   ---\n",
       "     2019-01-17 17:48:13  0.391 sec   46.0               0.04188204772098617  0.01721539316168035   0.0\n",
       "     2019-01-17 17:48:13  0.396 sec   47.0               0.04038094783965703  0.016249646335295638  0.0\n",
       "     2019-01-17 17:48:13  0.401 sec   48.0               0.03801813244379848  0.01521481315711686   0.0\n",
       "     2019-01-17 17:48:13  0.406 sec   49.0               0.0372686316673746   0.01458167342530398   0.0\n",
       "     2019-01-17 17:48:13  0.411 sec   50.0               0.03511736274207084  0.013687087546698102  0.0"
      ]
     },
     "metadata": {},
     "output_type": "display_data"
    },
    {
     "name": "stdout",
     "output_type": "stream",
     "text": [
      "\n",
      "See the whole table with table.as_data_frame()\n",
      "Variable Importances: \n"
     ]
    },
    {
     "data": {
      "text/html": [
       "<div style=\"overflow:auto\"><table style=\"width:50%\"><tr><td><b>variable</b></td>\n",
       "<td><b>relative_importance</b></td>\n",
       "<td><b>scaled_importance</b></td>\n",
       "<td><b>percentage</b></td></tr>\n",
       "<tr><td>petal_wid</td>\n",
       "<td>226.0951385</td>\n",
       "<td>1.0</td>\n",
       "<td>0.6039944</td></tr>\n",
       "<tr><td>petal_len</td>\n",
       "<td>142.0167847</td>\n",
       "<td>0.6281284</td>\n",
       "<td>0.3793860</td></tr>\n",
       "<tr><td>sepal_wid</td>\n",
       "<td>3.9619498</td>\n",
       "<td>0.0175234</td>\n",
       "<td>0.0105840</td></tr>\n",
       "<tr><td>sepal_len</td>\n",
       "<td>2.2593145</td>\n",
       "<td>0.0099928</td>\n",
       "<td>0.0060356</td></tr></table></div>"
      ],
      "text/plain": [
       "variable    relative_importance    scaled_importance    percentage\n",
       "----------  ---------------------  -------------------  ------------\n",
       "petal_wid   226.095                1                    0.603994\n",
       "petal_len   142.017                0.628128             0.379386\n",
       "sepal_wid   3.96195                0.0175234            0.010584\n",
       "sepal_len   2.25931                0.00999276           0.00603557"
      ]
     },
     "metadata": {},
     "output_type": "display_data"
    },
    {
     "data": {
      "text/plain": []
     },
     "execution_count": 13,
     "metadata": {},
     "output_type": "execute_result"
    }
   ],
   "source": [
    "mGBM"
   ]
  },
  {
   "cell_type": "code",
   "execution_count": 14,
   "metadata": {},
   "outputs": [
    {
     "name": "stdout",
     "output_type": "stream",
     "text": [
      "\n",
      "ModelMetricsMultinomial: gbm\n",
      "** Reported on test data. **\n",
      "\n",
      "MSE: 0.05167237689251938\n",
      "RMSE: 0.227315588758271\n",
      "LogLoss: 0.15112072501154414\n",
      "Mean Per-Class Error: 0.07407407407407407\n",
      "Confusion Matrix: Row labels: Actual class; Column labels: Predicted class\n",
      "\n"
     ]
    },
    {
     "data": {
      "text/html": [
       "<div style=\"overflow:auto\"><table style=\"width:50%\"><tr><td><b>Iris-setosa</b></td>\n",
       "<td><b>Iris-versicolor</b></td>\n",
       "<td><b>Iris-virginica</b></td>\n",
       "<td><b>Error</b></td>\n",
       "<td><b>Rate</b></td></tr>\n",
       "<tr><td>6.0</td>\n",
       "<td>0.0</td>\n",
       "<td>0.0</td>\n",
       "<td>0.0</td>\n",
       "<td>0 / 6</td></tr>\n",
       "<tr><td>0.0</td>\n",
       "<td>13.0</td>\n",
       "<td>0.0</td>\n",
       "<td>0.0</td>\n",
       "<td>0 / 13</td></tr>\n",
       "<tr><td>0.0</td>\n",
       "<td>2.0</td>\n",
       "<td>7.0</td>\n",
       "<td>0.2222222</td>\n",
       "<td>2 / 9</td></tr>\n",
       "<tr><td>6.0</td>\n",
       "<td>15.0</td>\n",
       "<td>7.0</td>\n",
       "<td>0.0714286</td>\n",
       "<td>2 / 28</td></tr></table></div>"
      ],
      "text/plain": [
       "Iris-setosa    Iris-versicolor    Iris-virginica    Error      Rate\n",
       "-------------  -----------------  ----------------  ---------  ------\n",
       "6              0                  0                 0          0 / 6\n",
       "0              13                 0                 0          0 / 13\n",
       "0              2                  7                 0.222222   2 / 9\n",
       "6              15                 7                 0.0714286  2 / 28"
      ]
     },
     "metadata": {},
     "output_type": "display_data"
    },
    {
     "name": "stdout",
     "output_type": "stream",
     "text": [
      "Top-3 Hit Ratios: \n"
     ]
    },
    {
     "data": {
      "text/html": [
       "<div style=\"overflow:auto\"><table style=\"width:50%\"><tr><td><b>k</b></td>\n",
       "<td><b>hit_ratio</b></td></tr>\n",
       "<tr><td>1</td>\n",
       "<td>0.9285714</td></tr>\n",
       "<tr><td>2</td>\n",
       "<td>1.0</td></tr>\n",
       "<tr><td>3</td>\n",
       "<td>1.0</td></tr></table></div>"
      ],
      "text/plain": [
       "k    hit_ratio\n",
       "---  -----------\n",
       "1    0.928571\n",
       "2    1\n",
       "3    1"
      ]
     },
     "metadata": {},
     "output_type": "display_data"
    },
    {
     "data": {
      "text/plain": []
     },
     "execution_count": 14,
     "metadata": {},
     "output_type": "execute_result"
    }
   ],
   "source": [
    "mGBM.model_performance(test)"
   ]
  },
  {
   "cell_type": "code",
   "execution_count": 15,
   "metadata": {},
   "outputs": [
    {
     "name": "stdout",
     "output_type": "stream",
     "text": [
      "gbm prediction progress: |████████████████████████████████████████████████| 100%\n"
     ]
    }
   ],
   "source": [
    "p = mGBM.predict(test)"
   ]
  },
  {
   "cell_type": "code",
   "execution_count": 16,
   "metadata": {},
   "outputs": [
    {
     "data": {
      "text/html": [
       "<table>\n",
       "<thead>\n",
       "<tr><th>predict        </th><th style=\"text-align: right;\">  Iris-setosa</th><th style=\"text-align: right;\">  Iris-versicolor</th><th style=\"text-align: right;\">  Iris-virginica</th></tr>\n",
       "</thead>\n",
       "<tbody>\n",
       "<tr><td>Iris-setosa    </td><td style=\"text-align: right;\">  0.998423   </td><td style=\"text-align: right;\">      0.00040405 </td><td style=\"text-align: right;\">     0.00117269 </td></tr>\n",
       "<tr><td>Iris-setosa    </td><td style=\"text-align: right;\">  0.99842    </td><td style=\"text-align: right;\">      0.000404045</td><td style=\"text-align: right;\">     0.00117583 </td></tr>\n",
       "<tr><td>Iris-setosa    </td><td style=\"text-align: right;\">  0.996652   </td><td style=\"text-align: right;\">      0.00287015 </td><td style=\"text-align: right;\">     0.000478104</td></tr>\n",
       "<tr><td>Iris-setosa    </td><td style=\"text-align: right;\">  0.99822    </td><td style=\"text-align: right;\">      0.00123259 </td><td style=\"text-align: right;\">     0.000547388</td></tr>\n",
       "<tr><td>Iris-setosa    </td><td style=\"text-align: right;\">  0.998305   </td><td style=\"text-align: right;\">      0.000520159</td><td style=\"text-align: right;\">     0.00117533 </td></tr>\n",
       "<tr><td>Iris-setosa    </td><td style=\"text-align: right;\">  0.998924   </td><td style=\"text-align: right;\">      0.000525195</td><td style=\"text-align: right;\">     0.000551067</td></tr>\n",
       "<tr><td>Iris-versicolor</td><td style=\"text-align: right;\">  0.000504701</td><td style=\"text-align: right;\">      0.998403   </td><td style=\"text-align: right;\">     0.00109278 </td></tr>\n",
       "<tr><td>Iris-versicolor</td><td style=\"text-align: right;\">  0.00310598 </td><td style=\"text-align: right;\">      0.969503   </td><td style=\"text-align: right;\">     0.0273905  </td></tr>\n",
       "<tr><td>Iris-versicolor</td><td style=\"text-align: right;\">  0.0236128  </td><td style=\"text-align: right;\">      0.777575   </td><td style=\"text-align: right;\">     0.198812   </td></tr>\n",
       "<tr><td>Iris-versicolor</td><td style=\"text-align: right;\">  0.00139378 </td><td style=\"text-align: right;\">      0.993497   </td><td style=\"text-align: right;\">     0.00510917 </td></tr>\n",
       "</tbody>\n",
       "</table>"
      ]
     },
     "metadata": {},
     "output_type": "display_data"
    },
    {
     "data": {
      "text/plain": []
     },
     "execution_count": 16,
     "metadata": {},
     "output_type": "execute_result"
    }
   ],
   "source": [
    "p"
   ]
  },
  {
   "cell_type": "code",
   "execution_count": null,
   "metadata": {},
   "outputs": [],
   "source": []
  }
 ],
 "metadata": {
  "kernelspec": {
   "display_name": "Python 3",
   "language": "python",
   "name": "python3"
  },
  "language_info": {
   "codemirror_mode": {
    "name": "ipython",
    "version": 3
   },
   "file_extension": ".py",
   "mimetype": "text/x-python",
   "name": "python",
   "nbconvert_exporter": "python",
   "pygments_lexer": "ipython3",
   "version": "3.6.4"
  }
 },
 "nbformat": 4,
 "nbformat_minor": 2
}
